{
  "nbformat": 4,
  "nbformat_minor": 0,
  "metadata": {
    "colab": {
      "name": "SurvivorData.ipynb",
      "provenance": [],
      "collapsed_sections": [],
      "authorship_tag": "ABX9TyP9Sfou5o8FscBG3d1lBUZq",
      "include_colab_link": true
    },
    "kernelspec": {
      "display_name": "Python 3",
      "name": "python3"
    },
    "language_info": {
      "name": "python"
    }
  },
  "cells": [
    {
      "cell_type": "markdown",
      "metadata": {
        "id": "view-in-github",
        "colab_type": "text"
      },
      "source": [
        "<a href=\"https://colab.research.google.com/github/adam-foley/Survivor/blob/main/SurvivorData.ipynb\" target=\"_parent\"><img src=\"https://colab.research.google.com/assets/colab-badge.svg\" alt=\"Open In Colab\"/></a>"
      ]
    },
    {
      "cell_type": "code",
      "metadata": {
        "id": "ZhwZnSFagNjT"
      },
      "source": [
        "A - Nate, Ozzy, Becky\n",
        "V - Candice, Cecelia, Adam"
      ],
      "execution_count": null,
      "outputs": []
    },
    {
      "cell_type": "markdown",
      "metadata": {
        "id": "QaiMaRR6vuah"
      },
      "source": [
        "# Connect to DB"
      ]
    },
    {
      "cell_type": "code",
      "metadata": {
        "colab": {
          "base_uri": "https://localhost:8080/"
        },
        "id": "pcEGZBsm__Su",
        "outputId": "66b1a29d-f4ce-46ae-a147-327b3a7dc1f1"
      },
      "source": [
        "%pip install pymysql\n",
        "\n",
        "import matplotlib.pyplot as plt\n",
        "import os\n",
        "import pymysql\n",
        "import pandas as pd\n",
        "import numpy as np"
      ],
      "execution_count": null,
      "outputs": [
        {
          "output_type": "stream",
          "name": "stdout",
          "text": [
            "\u001b[?25hInstalling collected packages: pymysql\n",
            "Successfully installed pymysql-1.0.2\n"
          ]
        }
      ]
    },
    {
      "cell_type": "code",
      "metadata": {
        "colab": {
          "base_uri": "https://localhost:8080/"
        },
        "id": "MPpRP2PquLDc",
        "outputId": "ba33da29-8196-4a0d-ca58-fa3c2d862168"
      },
      "source": [
        "succeess = False\n",
        "\n",
        "while not succeess:\n",
        "  password = input(\"Password: \")\n",
        "  try:\n",
        "    conn = pymysql.connect(\n",
        "        host='aws-survivor.cpapv35x7rsh.us-east-2.rds.amazonaws.com',\n",
        "        port=int(3306),\n",
        "        user=\"admin\",\n",
        "        passwd=password,\n",
        "        db=\"survivor_data\",\n",
        "        charset='utf8mb4')\n",
        "    succeess = True\n",
        "  except:\n",
        "    print(\"Wrong Password\")\n",
        "\n",
        "print(\"Connection Made\")"
      ],
      "execution_count": null,
      "outputs": [
        {
          "output_type": "stream",
          "name": "stdout",
          "text": [
            "Password: Frederickwilliams121234\n",
            "Connection Made\n"
          ]
        }
      ]
    },
    {
      "cell_type": "markdown",
      "metadata": {
        "id": "0FEhMbZMBcY-"
      },
      "source": [
        "# State Bias"
      ]
    },
    {
      "cell_type": "code",
      "metadata": {
        "id": "X0zYTNRbzZmD"
      },
      "source": [
        "num_place = 7\n",
        "denom_place = 20\n",
        "\n",
        "\n",
        "\n",
        "df = pd.read_sql_query(\"Select s.*, p.sex, p.state from Seasons s left join Players p on p.survivor_id = s.survivor_id \", conn)\n",
        "\n",
        "total = df[df.place <= denom_place]\n",
        "total_placed = pd.DataFrame(total['season_id'].groupby(df.state).count()).rename(columns={'season_id':'Top '+str(denom_place)})\n",
        "\n",
        "top = df[df.place <= num_place]\n",
        "top_placed = pd.DataFrame(top['season_id'].groupby(top.state).count()).rename(columns={'season_id':'Top '+str(num_place)})\n",
        "\n",
        "state_total_jury= pd.merge(top_placed, total_placed, on='state').sort_values(by=['Top '+str(num_place),'Top '+str(denom_place)], ascending=False)\n",
        "\n",
        "state_total_jury['% in top placed'] = state_total_jury['Top '+str(num_place)] / state_total_jury['Top '+str(denom_place)]\n",
        "state_total_jury = state_total_jury.sort_values(by=['% in top placed','Top '+str(denom_place)], ascending=False)\n",
        "\n",
        "state_total_jury[state_total_jury['Top '+str(denom_place)] > 1 ]"
      ],
      "execution_count": null,
      "outputs": []
    },
    {
      "cell_type": "markdown",
      "metadata": {
        "id": "ZCc_Sk2cAZ0S"
      },
      "source": [
        "# Male and Female Representation by Place"
      ]
    },
    {
      "cell_type": "code",
      "metadata": {
        "colab": {
          "base_uri": "https://localhost:8080/",
          "height": 297
        },
        "id": "vhvExGgx7uhb",
        "outputId": "fdb7e235-f34f-46ec-900a-347bd84055ac"
      },
      "source": [
        "male_place_count = df[df.sex == 'M']\n",
        "male_place_count = pd.DataFrame(male_place_count['season_id'].groupby(male_place_count.place).count()).rename(columns={'season_id':'male count'})\n",
        "female_place_count = df[df.sex == 'F']\n",
        "female_place_count = pd.DataFrame(female_place_count['season_id'].groupby(female_place_count.place).count()).rename(columns={'season_id':'female count'})\n",
        "\n",
        "place_count = male_place_count.merge(female_place_count, on='place')\n",
        "\n",
        "male_count = place_count['male count'].to_list()\n",
        "female_count = place_count['female count'].to_list()\n",
        "\n",
        "\n",
        "labels = np.arange(1, len(male_count)+1).tolist()\n",
        "x = np.arange(len(labels))  # the label locations\n",
        "width = 0.2  # the width of the bars\n",
        "\n",
        "fig, ax = plt.subplots()\n",
        "rects1 = ax.bar(x - width/2, male_count, width, label='Male')\n",
        "rects2 = ax.bar(x + width/2, female_count, width, label='Female', color=('pink'))\n",
        "\n",
        "# Add some text for labels, title and custom x-axis tick labels, etc.\n",
        "ax.set_xlabel('Place')\n",
        "ax.set_ylabel('# of Survivors')\n",
        "ax.set_title('# of Suvivors by Place by Sex')\n",
        "ax.set_xticks(x)\n",
        "ax.set_xticklabels(labels)\n",
        "ax.legend()\n",
        "\n",
        "\n",
        "fig.tight_layout()\n",
        "\n",
        "plt.show()"
      ],
      "execution_count": null,
      "outputs": [
        {
          "output_type": "display_data",
          "data": {
            "image/png": "[encoded data removed]",
            "text/plain": [
              "<Figure size 432x288 with 1 Axes>"
            ]
          },
          "metadata": {
            "needs_background": "light"
          }
        }
      ]
    },
    {
      "cell_type": "markdown",
      "metadata": {
        "id": "BD04zJhgawud"
      },
      "source": [
        "# Picks by Place"
      ]
    },
    {
      "cell_type": "code",
      "metadata": {
        "colab": {
          "base_uri": "https://localhost:8080/",
          "height": 297
        },
        "id": "3mLYxhtVB7PF",
        "outputId": "504c595f-2b8d-4f40-cc8a-2210ea092e2e"
      },
      "source": [
        "votes = df[['place', 'vote_adam','vote_victoria']].groupby(['place']).agg(['sum'])\n",
        "\n",
        "adamVotes = votes['vote_adam']['sum'].to_list()\n",
        "victoriaVotes = votes['vote_victoria']['sum'].to_list()\n",
        "\n",
        "labels = np.arange(1, len(adamVotes)+1).tolist()\n",
        "x = np.arange(len(labels))  # the label locations\n",
        "width = 0.2  # the width of the bars\n",
        "\n",
        "fig, ax = plt.subplots()\n",
        "rects1 = ax.bar(x - width/2, adamVotes, width, label='Adam')\n",
        "rects2 = ax.bar(x + width/2, victoriaVotes, width, label='Victoria', color=('pink'))\n",
        "\n",
        "# Add some text for labels, title and custom x-axis tick labels, etc.\n",
        "ax.set_xlabel('Place')\n",
        "ax.set_ylabel('# of Picks')\n",
        "ax.set_title('Picks By Place')\n",
        "ax.set_xticks(x)\n",
        "ax.set_xticklabels(labels)\n",
        "ax.legend()\n",
        "\n",
        "\n",
        "fig.tight_layout()\n",
        "\n",
        "plt.show()"
      ],
      "execution_count": null,
      "outputs": [
        {
          "output_type": "display_data",
          "data": {
            "image/png": "[encoded data removed]",
            "text/plain": [
              "<Figure size 432x288 with 1 Axes>"
            ]
          },
          "metadata": {
            "needs_background": "light"
          }
        }
      ]
    },
    {
      "cell_type": "markdown",
      "metadata": {
        "id": "Wr2aHTeLjU9_"
      },
      "source": [
        "# Best Pick by Season\n"
      ]
    },
    {
      "cell_type": "code",
      "metadata": {
        "colab": {
          "base_uri": "https://localhost:8080/",
          "height": 295
        },
        "id": "EKbxk70KhaIV",
        "outputId": "35795a89-96e9-48fb-b249-e4b05c6e54d7"
      },
      "source": [
        "maxSeasons = pd.read_sql_query(\"Select Distinct Max(season_id) as 'season' from survivor_data.Seasons\", conn)['season'].values[0] + 1\n",
        "\n",
        "first_a = []\n",
        "second_a = []\n",
        "third_a = []\n",
        "\n",
        "first_v = []\n",
        "second_v = []\n",
        "third_v = []\n",
        "\n",
        "for season in range(1, maxSeasons):\n",
        "  query = 'Select season_id, place from survivor_data.Seasons where vote_adam = 1 and season_id = ' + str(season) + ' Order By place ASC'\n",
        "  data = pd.read_sql_query(query, conn)\n",
        "  first_a.append(data.iloc[0]['place'])\n",
        "  second_a.append(data.iloc[1]['place'])\n",
        "  third_a.append(data.iloc[2]['place'])\n",
        "\n",
        "for season in range(1, maxSeasons):\n",
        "  query = 'Select season_id, place from survivor_data.Seasons where vote_victoria = 1 and season_id = ' + str(season) + ' Order By place ASC'\n",
        "  data = pd.read_sql_query(query, conn)\n",
        "  first_v.append(data.iloc[0]['place'])\n",
        "  second_v.append(data.iloc[1]['place'])\n",
        "  third_v.append(data.iloc[2]['place'])\n",
        "\n",
        "seasons = np.arange(1, season+1).tolist()\n",
        "\n",
        "plt.xticks(seasons)\n",
        "plt.gca().invert_yaxis()\n",
        "\n",
        "\n",
        "\n",
        "plt.plot(seasons, first_a,label=\"Adam\")\n",
        "plt.plot(seasons, first_v, label=\"Victoria\",color=('pink'))\n",
        "\n",
        "plt.title('Best Pick Each Season')\n",
        "plt.xlabel('Season')\n",
        "plt.ylabel('Pick')\n",
        "plt.legend()\n",
        "plt.show()"
      ],
      "execution_count": null,
      "outputs": [
        {
          "output_type": "display_data",
          "data": {
            "image/png": "[encoded data removed]",
            "text/plain": [
              "<Figure size 432x288 with 1 Axes>"
            ]
          },
          "metadata": {
            "needs_background": "light"
          }
        }
      ]
    }
  ]
}