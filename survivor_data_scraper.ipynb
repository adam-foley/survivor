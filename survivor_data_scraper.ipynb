{
  "nbformat": 4,
  "nbformat_minor": 0,
  "metadata": {
    "colab": {
      "name": "survivor_data_scraper.ipynb",
      "provenance": [],
      "collapsed_sections": [
        "v0Y1TJsYsmkb",
        "BvmYrBKF0jXA",
        "ih9fv521hznP",
        "4MKRZdVzssit"
      ]
    },
    "kernelspec": {
      "name": "python3",
      "display_name": "Python 3"
    },
    "language_info": {
      "name": "python"
    }
  },
  "cells": [
    {
      "cell_type": "markdown",
      "metadata": {
        "id": "lUpgzSeWinDd"
      },
      "source": [
        "#Surivor - Outwit, Outplay, Outlast"
      ]
    },
    {
      "cell_type": "markdown",
      "metadata": {
        "id": "GHtCQs8l-Kuo"
      },
      "source": [
        "## Imports and functions"
      ]
    },
    {
      "cell_type": "code",
      "metadata": {
        "colab": {
          "base_uri": "https://localhost:8080/"
        },
        "id": "RGFiIXrJSX8a",
        "outputId": "0a7c5830-8c1c-4cc7-eee2-bdd597665275"
      },
      "source": [
        "%pip install gender_guesser\n",
        "%pip install pymysql\n",
        "\n",
        "from bs4 import BeautifulSoup\n",
        "\n",
        "import requests\n",
        "import urllib.request\n",
        "import time\n",
        "import random\n",
        "import requests\n",
        "import random\n",
        "import os\n",
        "import pymysql\n",
        "import time\n",
        "import gender_guesser.detector as gender\n",
        "import pandas as pd\n",
        "import numpy as np\n",
        "\n",
        "STATES = {'Alabama': 'AL', 'Alaska': 'AK', 'Arizona': 'AZ', 'Arkansas': 'AR', 'California': 'CA', 'Colorado': 'CO', 'Connecticut': 'CT', 'Delaware': 'DE', 'D.C.': 'DC', 'Florida': 'FL', \n",
        "          'Georgia': 'GA', 'Hawaii': 'HI', 'Idaho': 'ID', 'Illinois': 'IL', 'Indiana': 'IN', 'Iowa': 'IA', 'Kansas': 'KS', 'Kentucky': 'KY', 'Louisiana': 'LA', 'Maine': 'ME', \n",
        "          'Maryland': 'MD', 'Massachusetts': 'MA', 'Michigan': 'MI', 'Minnesota': 'MN', 'Mississippi': 'MS', 'Missouri': 'MO', 'Montana': 'MT', 'Nebraska': 'NE', \n",
        "          'Nevada': 'NV', 'New Hampshire': 'NH', 'New Jersey': 'NJ', 'New Mexico': 'NM', 'New York': 'NY', 'North Carolina': 'NC', 'North Dakota': 'ND', 'Ohio': 'OH', \n",
        "          'Oklahoma': 'OK', 'Oregon': 'OR', 'Pennsylvania': 'PA', 'Rhode Island': 'RI', 'South Carolina': 'SC', 'South Dakota': 'SD', 'Tennessee': 'TN', 'Texas': 'TX', \n",
        "          'Utah': 'UT', 'Vermont': 'VT', 'Virginia': 'VA', 'Washington': 'WA.', 'West Virginia': 'WV', 'Wisconsin': 'WI', 'Wyoming': 'WY'}\n",
        "\n",
        "\n",
        "SEASONS = ['Borneo', 'The_Australian_Outback', 'Africa', 'Marquesas', 'Thailand', 'The_Amazon', 'Pearl_Islands', 'All-Stars', 'Vanuatu', 'Palau', 'Guatemala','Panama'] \n",
        "\n",
        "def getSeasonURL(season_num):\n",
        "  wiki_url = 'https://en.wikipedia.org/wiki/Survivor:_'\n",
        "  return wiki_url + SEASONS[ season_num - 1 ]\n",
        "\n",
        "def getSurvivorId(first_name, last_name):\n",
        "  first_name = \"'\"+first_name+\"'\"\n",
        "  last_name = \"'\"+last_name.strip(\" \")+\"'\"\n",
        "  query = \"Select survivor_id from survivor_data.Players where first_name =\"+first_name+\" and last_name=\"+last_name+\";\"\n",
        "  cur.execute(query)\n",
        "  id = cur.fetchone()[0]\n",
        "  return str(id)\n",
        "\n",
        "def executeQuery(query):\n",
        "  cur.execute(query)\n",
        "\n",
        "def commitQuery():\n",
        "  conn.commit()\n",
        "\n",
        "def findStateInString(s):\n",
        "  word = ''\n",
        "  for char in s:\n",
        "    if word in states:\n",
        "      return word\n",
        "    else:\n",
        "      word += char\n",
        "\n",
        "def addQuotes(s):\n",
        "  return \" '\"+s+\"' \"\n",
        "\n",
        "def getGender(name):\n",
        "  d = gender.Detector()\n",
        "  g = d.get_gender(name).split(\"_\")\n",
        "\n",
        "  if len(g) == 2:\n",
        "    gn = g[-1]\n",
        "  else:\n",
        "    gn = g[0]\n",
        "    \n",
        "  if gn == \"male\":\n",
        "    return 'M'\n",
        "  else:\n",
        "    return 'F'\n",
        "\n",
        "def getPlayerTableInfoRandom(url):\n",
        "  response = requests.get(url)\n",
        "  soup = BeautifulSoup(response.text, 'html.parser')\n",
        "  table = soup.find_all('table', {'class': 'wikitable'})[0]\n",
        "  table_rows = table.find_all('tr')\n",
        "\n",
        "  rows = []\n",
        "  for tr in table_rows:\n",
        "      td = tr.find_all('td')\n",
        "      td_row = [i.text for i in td]\n",
        "      rows.append(td_row[:-1])\n",
        "      random.shuffle(rows)\n",
        "\n",
        "  return rows\n",
        "\n",
        "def getPlayerTableInfo(url):\n",
        "  response = requests.get(url)\n",
        "  soup = BeautifulSoup(response.text, 'html.parser')\n",
        "  table = soup.find_all('table', {'class': 'wikitable'})[0]\n",
        "  table_rows = table.find_all('tr')\n",
        "\n",
        "  rows = []\n",
        "  for tr in table_rows:\n",
        "      td = tr.find_all('td')\n",
        "      td_row = [i.text for i in td]\n",
        "      rows.append(td_row[:-1])\n",
        "\n",
        "  return rows"
      ],
      "execution_count": 1,
      "outputs": [
        {
          "output_type": "stream",
          "name": "stdout",
          "text": [
            "Collecting gender_guesser\n",
            "  Downloading gender_guesser-0.4.0-py2.py3-none-any.whl (379 kB)\n",
            "\u001b[K     |████████████████████████████████| 379 kB 5.2 MB/s \n",
            "\u001b[?25hInstalling collected packages: gender-guesser\n",
            "Successfully installed gender-guesser-0.4.0\n",
            "Collecting pymysql\n",
            "  Downloading PyMySQL-1.0.2-py3-none-any.whl (43 kB)\n",
            "\u001b[K     |████████████████████████████████| 43 kB 1.1 MB/s \n",
            "\u001b[?25hInstalling collected packages: pymysql\n",
            "Successfully installed pymysql-1.0.2\n"
          ]
        }
      ]
    },
    {
      "cell_type": "markdown",
      "metadata": {
        "id": "dW1EGwP-jvOp"
      },
      "source": [
        "## AWS Login"
      ]
    },
    {
      "cell_type": "code",
      "metadata": {
        "id": "Mv-4qVDNjuXU"
      },
      "source": [
        "  succeess = False\n",
        "\n",
        "  while not succeess:\n",
        "    password = input(\"Password: \");\n",
        "    try:\n",
        "      conn = pymysql.connect(\n",
        "          host='aws-survivor.cpapv35x7rsh.us-east-2.rds.amazonaws.com',\n",
        "          port=int(3306),\n",
        "          user=\"admin\",\n",
        "          passwd=password,\n",
        "          db=\"survivor_data\",\n",
        "          charset='utf8mb4')\n",
        "      cur = conn.cursor()\n",
        "      succeess = True\n",
        "    except:\n",
        "      print(\"Wrong Password\")\n",
        "  print(\"Connection Made\")"
      ],
      "execution_count": null,
      "outputs": []
    },
    {
      "cell_type": "markdown",
      "metadata": {
        "id": "v0Y1TJsYsmkb"
      },
      "source": [
        "## Adding Players to Players Table"
      ]
    },
    {
      "cell_type": "code",
      "metadata": {
        "id": "YsKRHzLjJ5bX"
      },
      "source": [
        "url = getSeasonURL(12)\n",
        "rows =getPlayerTableInfoRandom(url)\n",
        "print(rows)\n",
        "\n",
        "for row in rows:\n",
        "  if len(row) !=0:\n",
        "    r_split = row[0].split(\",\")\n",
        "\n",
        "    if len(r_split) == 3:\n",
        "      name_age = r_split[0]\n",
        "      first_name = name_age[:-2].split(\" \", 1)[0]\n",
        "      last_name  = name_age[:-2].split(\" \", 1)[1]\n",
        "      age = name_age[-2:]\n",
        "      gen = getGender(first_name)\n",
        "      state = r_split[-1].strip(\"\\n\")[1:]\n",
        "\n",
        "      print(first_name, last_name, age, gen, state)\n",
        "\n",
        "      try:\n",
        "        query = \"INSERT INTO `survivor_data`.`Players` (`first_name`, `last_name`, `sex`, `state`) VALUES (\"+addQuotes(first_name)+\",\"+addQuotes(last_name)+\",\"+addQuotes(gen)+\",\"+addQuotes(STATES[state])+\");\"\n",
        "        print(query)\n",
        "        #executeQuery(query)\n",
        "      except:\n",
        "        print(\"Error\")\n",
        "\n",
        "#commitQuery()"
      ],
      "execution_count": null,
      "outputs": []
    },
    {
      "cell_type": "markdown",
      "metadata": {
        "id": "BvmYrBKF0jXA"
      },
      "source": [
        "## Add Players to Seasons Table"
      ]
    },
    {
      "cell_type": "code",
      "metadata": {
        "id": "JBZ0yAF60rhn",
        "colab": {
          "base_uri": "https://localhost:8080/"
        },
        "outputId": "bde45565-e839-42cf-fab5-3099d51cc850"
      },
      "source": [
        "season = len(SEASONS)\n",
        "url = getSeasonURL(season)\n",
        "rows =getPlayerTableInfoRandom(url)\n",
        "print(rows)\n",
        "\n",
        "for row in rows:\n",
        "  if len(row) !=0:\n",
        "    r_split = row[0].split(\",\")\n",
        "\n",
        "    if len(r_split) == 3:\n",
        "      name_age = r_split[0]\n",
        "      first_name = name_age[:-2].split(\" \", 1)[0]\n",
        "      last_name  = name_age[:-2].split(\" \", 1)[1]\n",
        "      age = name_age[-2:]\n",
        "\n",
        "\n",
        "\n",
        "      try:\n",
        "        survivor_id = getSurvivorId(first_name, last_name)\n",
        "        query = \"INSERT INTO `survivor_data`.`Seasons` (season_id, survivor_id, age)\"+\" VALUES('\"+str(season)+\"','\"+str(survivor_id)+\"','\"+str(age)+\"');\"\n",
        "        print(query)\n",
        "        #executeQuery(query)\n",
        "      except:\n",
        "        print(first_name, last_name, age)\n",
        "\n",
        "#commitQuery()"
      ],
      "execution_count": 6,
      "outputs": [
        {
          "output_type": "stream",
          "name": "stdout",
          "text": [
            "[['Cirie Fields35, Walterboro, South Carolina\\n', 'Casaya\\n', 'Casaya\\n'], ['Tina Scheer44, Hayward, Wisconsin\\n', 'Casaya\\n', '\\n', '\\n'], ['Sally Schumann27, Chicago, Illinois\\n', 'Bayoneta\\n', 'La Mina\\n'], ['Aras Baskauskas24, Santa Monica, California\\n', 'Viveros\\n', 'Casaya\\n'], ['Danielle DiLorenzo24, Pompano Beach, Florida\\n', 'Bayoneta\\n', 'Casaya\\n'], ['Austin Carty24, High Point, North Carolina\\n', 'Viveros\\n', 'La Mina\\n'], ['Dan Barry51, South Hadley, Massachusetts\\n', 'La Mina\\n', 'La Mina\\n', '\\n'], ['Terry Deitz46, Simsbury, Connecticut\\n', 'La Mina\\n', 'La Mina\\n'], ['Melinda Hyder32, Sevierville, Tennessee\\n', 'Casaya\\n', 'Casaya\\n', '\\n'], ['Bobby Mason32, Los Angeles, California\\n', 'Viveros\\n', 'Casaya\\n', '\\n'], ['Shane Powers35, Los Angeles, California\\n', 'La Mina\\n', 'Casaya\\n'], ['Courtney Marit31, Los Angeles, California\\n', 'Bayoneta\\n', 'Casaya\\n'], ['Nick Stanbury25, Tempe, Arizona\\n', 'Viveros\\n', 'La Mina\\n', 'Gitanos\\n'], ['Misty Giles24, Dallas, Texas\\n', 'Bayoneta\\n', 'La Mina\\n', '\\n'], ['Bruce Kanegai57, Simi Valley, California\\n', 'La Mina\\n', 'Casaya[a]\\n'], [], ['Ruth Marie Milliman48, Greenville, South Carolina\\n', 'Casaya\\n', 'La Mina\\n', '\\n']]\n",
            "INSERT INTO `survivor_data`.`Seasons` (season_id, survivor_id, age) VALUES('12','214','35');\n",
            "INSERT INTO `survivor_data`.`Seasons` (season_id, survivor_id, age) VALUES('12','216','44');\n",
            "INSERT INTO `survivor_data`.`Seasons` (season_id, survivor_id, age) VALUES('12','217','27');\n",
            "INSERT INTO `survivor_data`.`Seasons` (season_id, survivor_id, age) VALUES('12','206','24');\n",
            "INSERT INTO `survivor_data`.`Seasons` (season_id, survivor_id, age) VALUES('12','221','24');\n",
            "INSERT INTO `survivor_data`.`Seasons` (season_id, survivor_id, age) VALUES('12','218','24');\n",
            "INSERT INTO `survivor_data`.`Seasons` (season_id, survivor_id, age) VALUES('12','207','51');\n",
            "INSERT INTO `survivor_data`.`Seasons` (season_id, survivor_id, age) VALUES('12','208','46');\n",
            "INSERT INTO `survivor_data`.`Seasons` (season_id, survivor_id, age) VALUES('12','210','32');\n",
            "INSERT INTO `survivor_data`.`Seasons` (season_id, survivor_id, age) VALUES('12','215','32');\n",
            "INSERT INTO `survivor_data`.`Seasons` (season_id, survivor_id, age) VALUES('12','213','35');\n",
            "INSERT INTO `survivor_data`.`Seasons` (season_id, survivor_id, age) VALUES('12','209','31');\n",
            "INSERT INTO `survivor_data`.`Seasons` (season_id, survivor_id, age) VALUES('12','212','25');\n",
            "INSERT INTO `survivor_data`.`Seasons` (season_id, survivor_id, age) VALUES('12','219','24');\n",
            "INSERT INTO `survivor_data`.`Seasons` (season_id, survivor_id, age) VALUES('12','220','57');\n",
            "INSERT INTO `survivor_data`.`Seasons` (season_id, survivor_id, age) VALUES('12','211','48');\n"
          ]
        }
      ]
    },
    {
      "cell_type": "markdown",
      "metadata": {
        "id": "feuANwuIehxQ"
      },
      "source": [
        "## Add Votes for in Season Table"
      ]
    },
    {
      "cell_type": "code",
      "metadata": {
        "id": "jG3SQe1Tef5v",
        "colab": {
          "base_uri": "https://localhost:8080/"
        },
        "outputId": "720d40f2-7978-4fb5-8d06-4b686701b68f"
      },
      "source": [
        "a = [ ['Terry', 'Deitz'], ['Bruce', 'Kanegai'], ['Danielle', 'DiLorenzo']]\n",
        "v = [ ['Cirie', 'Fields'], ['Dan', 'Barry'], ['Courtney', 'Marit'] ]\n",
        "season = 12\n",
        "\n",
        "\n",
        "for player in a:\n",
        "  survivor_id = getSurvivorId(first_name=player[0], last_name=player[1])\n",
        "  query = \"UPDATE `survivor_data`.`Seasons` SET `vote_adam` = 1 WHERE `season_id` ='\"+str(season)+\"' and survivor_id ='\"+survivor_id+\"';\"\n",
        "  #executeQuery(query)\n",
        "  print(query)\n",
        "\n",
        "for player in v:\n",
        "  survivor_id = getSurvivorId(first_name=player[0], last_name=player[1])\n",
        "  query = \"UPDATE `survivor_data`.`Seasons` SET `vote_victoria` = 1 WHERE `season_id` ='\"+str(season)+\"' and survivor_id ='\"+survivor_id+\"';\"\n",
        "  #executeQuery(query)\n",
        "  print(query)\n",
        "\n",
        "#commitQuery()"
      ],
      "execution_count": 13,
      "outputs": [
        {
          "output_type": "stream",
          "name": "stdout",
          "text": [
            "UPDATE `survivor_data`.`Seasons` SET `vote_adam` = 1 WHERE `season_id` ='12' and survivor_id ='208';\n",
            "UPDATE `survivor_data`.`Seasons` SET `vote_adam` = 1 WHERE `season_id` ='12' and survivor_id ='220';\n",
            "UPDATE `survivor_data`.`Seasons` SET `vote_adam` = 1 WHERE `season_id` ='12' and survivor_id ='221';\n",
            "UPDATE `survivor_data`.`Seasons` SET `vote_victoria` = 1 WHERE `season_id` ='12' and survivor_id ='214';\n",
            "UPDATE `survivor_data`.`Seasons` SET `vote_victoria` = 1 WHERE `season_id` ='12' and survivor_id ='207';\n",
            "UPDATE `survivor_data`.`Seasons` SET `vote_victoria` = 1 WHERE `season_id` ='12' and survivor_id ='209';\n"
          ]
        }
      ]
    },
    {
      "cell_type": "markdown",
      "metadata": {
        "id": "azJ-NNF4CEZz"
      },
      "source": [
        "## Set Players Place in the Season"
      ]
    },
    {
      "cell_type": "code",
      "metadata": {
        "id": "ClhUl5muChH0",
        "colab": {
          "base_uri": "https://localhost:8080/"
        },
        "outputId": "66c7185f-6ddf-4a0c-f134-92a9c11ea403"
      },
      "source": [
        "season = 12\n",
        "url = getSeasonURL(season)\n",
        "rows =getPlayerTableInfo(url)\n",
        "rows = rows[1:]\n",
        "place = len(rows)\n",
        "\n",
        "print(rows)\n",
        "\n",
        "for row in rows:\n",
        "  if len(row) !=0:\n",
        "    r_split = row[0].split(\",\")\n",
        "\n",
        "    if len(r_split) == 3:\n",
        "      name_age = r_split[0]\n",
        "      first_name = name_age[:-2].split(\" \", 1)[0].strip(\" \")\n",
        "      last_name  = name_age[:-2].split(\" \", 1)[1].strip(\" \").strip(\"'\")\n",
        "\n",
        "      try:\n",
        "        print(first_name)\n",
        "        survivor_id = getSurvivorId(first_name, last_name)\n",
        "        query = \"UPDATE `survivor_data`.`Seasons` SET place =\"+ str(place) +\" WHERE `season_id` ='\"+str(season)+\"'and `survivor_id` ='\"+survivor_id+\"';\"\n",
        "        print(query)\n",
        "        #executeQuery(query)\n",
        "\n",
        "      except:\n",
        "        print(\"Error: \", first_name, last_name) \n",
        "        \n",
        "  place -= 1   \n",
        "\n",
        "#commitQuery()"
      ],
      "execution_count": 8,
      "outputs": [
        {
          "output_type": "stream",
          "name": "stdout",
          "text": [
            "[['Tina Scheer44, Hayward, Wisconsin\\n', 'Casaya\\n', '\\n', '\\n'], ['Melinda Hyder32, Sevierville, Tennessee\\n', 'Casaya\\n', 'Casaya\\n', '\\n'], ['Misty Giles24, Dallas, Texas\\n', 'Bayoneta\\n', 'La Mina\\n', '\\n'], ['Ruth Marie Milliman48, Greenville, South Carolina\\n', 'Casaya\\n', 'La Mina\\n', '\\n'], ['Bobby Mason32, Los Angeles, California\\n', 'Viveros\\n', 'Casaya\\n', '\\n'], ['Dan Barry51, South Hadley, Massachusetts\\n', 'La Mina\\n', 'La Mina\\n', '\\n'], ['Nick Stanbury25, Tempe, Arizona\\n', 'Viveros\\n', 'La Mina\\n', 'Gitanos\\n'], ['Austin Carty24, High Point, North Carolina\\n', 'Viveros\\n', 'La Mina\\n'], ['Sally Schumann27, Chicago, Illinois\\n', 'Bayoneta\\n', 'La Mina\\n'], ['Bruce Kanegai57, Simi Valley, California\\n', 'La Mina\\n', 'Casaya[a]\\n'], ['Courtney Marit31, Los Angeles, California\\n', 'Bayoneta\\n', 'Casaya\\n'], ['Shane Powers35, Los Angeles, California\\n', 'La Mina\\n', 'Casaya\\n'], ['Cirie Fields35, Walterboro, South Carolina\\n', 'Casaya\\n', 'Casaya\\n'], ['Terry Deitz46, Simsbury, Connecticut\\n', 'La Mina\\n', 'La Mina\\n'], ['Danielle DiLorenzo24, Pompano Beach, Florida\\n', 'Bayoneta\\n', 'Casaya\\n'], ['Aras Baskauskas24, Santa Monica, California\\n', 'Viveros\\n', 'Casaya\\n']]\n",
            "Tina\n",
            "UPDATE `survivor_data`.`Seasons` SET place =16 WHERE `season_id` ='12'and `survivor_id` ='216';\n",
            "Melinda\n",
            "UPDATE `survivor_data`.`Seasons` SET place =15 WHERE `season_id` ='12'and `survivor_id` ='210';\n",
            "Misty\n",
            "UPDATE `survivor_data`.`Seasons` SET place =14 WHERE `season_id` ='12'and `survivor_id` ='219';\n",
            "Ruth\n",
            "UPDATE `survivor_data`.`Seasons` SET place =13 WHERE `season_id` ='12'and `survivor_id` ='211';\n",
            "Bobby\n",
            "UPDATE `survivor_data`.`Seasons` SET place =12 WHERE `season_id` ='12'and `survivor_id` ='215';\n",
            "Dan\n",
            "UPDATE `survivor_data`.`Seasons` SET place =11 WHERE `season_id` ='12'and `survivor_id` ='207';\n",
            "Nick\n",
            "UPDATE `survivor_data`.`Seasons` SET place =10 WHERE `season_id` ='12'and `survivor_id` ='212';\n",
            "Austin\n",
            "UPDATE `survivor_data`.`Seasons` SET place =9 WHERE `season_id` ='12'and `survivor_id` ='218';\n",
            "Sally\n",
            "UPDATE `survivor_data`.`Seasons` SET place =8 WHERE `season_id` ='12'and `survivor_id` ='217';\n",
            "Bruce\n",
            "UPDATE `survivor_data`.`Seasons` SET place =7 WHERE `season_id` ='12'and `survivor_id` ='220';\n",
            "Courtney\n",
            "UPDATE `survivor_data`.`Seasons` SET place =6 WHERE `season_id` ='12'and `survivor_id` ='209';\n",
            "Shane\n",
            "UPDATE `survivor_data`.`Seasons` SET place =5 WHERE `season_id` ='12'and `survivor_id` ='213';\n",
            "Cirie\n",
            "UPDATE `survivor_data`.`Seasons` SET place =4 WHERE `season_id` ='12'and `survivor_id` ='214';\n",
            "Terry\n",
            "UPDATE `survivor_data`.`Seasons` SET place =3 WHERE `season_id` ='12'and `survivor_id` ='208';\n",
            "Danielle\n",
            "UPDATE `survivor_data`.`Seasons` SET place =2 WHERE `season_id` ='12'and `survivor_id` ='221';\n",
            "Aras\n",
            "UPDATE `survivor_data`.`Seasons` SET place =1 WHERE `season_id` ='12'and `survivor_id` ='206';\n"
          ]
        }
      ]
    },
    {
      "cell_type": "markdown",
      "metadata": {
        "id": "ih9fv521hznP"
      },
      "source": [
        "## Getting Challenge Winners"
      ]
    },
    {
      "cell_type": "code",
      "metadata": {
        "id": "-1lf6u9Ah2c_"
      },
      "source": [
        "response = requests.get(getSeasonURL(7))\n",
        "soup = BeautifulSoup(response.text, 'html.parser')\n",
        "table = soup.find_all('table', {'class': 'wikitable'})[1]\n",
        "table_rows = table.find_all('tr')\n",
        "\n",
        "rows = []\n",
        "for tr in table_rows:\n",
        "    td = tr.find_all('td')\n",
        "    td_row = [i.text for i in td]\n",
        "    if len(td_row) != 0:\n",
        "      rows.append(td_row)\n",
        "\n",
        "print(rows)\n",
        "\n",
        "count = 0\n",
        "\n",
        "for epi in rows:\n",
        "  if count >= 8:\n",
        "    reward = 'N/A'\n",
        "    immunity = 'N/A'\n",
        "\n",
        "    print(epi)\n",
        "\n",
        "    if epi[-1].strip(\"\\n\") != 'Runner-up' or epi[-1].strip(\"\\n\") != 'Sole Survivor':\n",
        "      if epi[-1][:2] == '13' or epi[-1][:2] == '14':\n",
        "        immunity = epi[-3].strip(\"\\n\")\n",
        "      elif len(epi) >= 4:\n",
        "        reward = epi[-4].strip(\"\\n\")\n",
        "        immunity = epi[-3].strip(\"\\n\")\n",
        "    \n",
        "    print(reward, immunity)\n",
        "  count +=1"
      ],
      "execution_count": null,
      "outputs": []
    },
    {
      "cell_type": "code",
      "metadata": {
        "id": "VZqK-xHhh0c-"
      },
      "source": [
        ""
      ],
      "execution_count": null,
      "outputs": []
    },
    {
      "cell_type": "markdown",
      "metadata": {
        "id": "A7Hpygp-h0H2"
      },
      "source": [
        ""
      ]
    }
  ]
}