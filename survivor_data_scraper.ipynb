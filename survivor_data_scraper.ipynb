{
  "nbformat": 4,
  "nbformat_minor": 0,
  "metadata": {
    "colab": {
      "name": "Copy of survivor_data_scraper.ipynb",
      "provenance": [],
      "collapsed_sections": [
        "v0Y1TJsYsmkb",
        "BvmYrBKF0jXA",
        "ih9fv521hznP",
        "4MKRZdVzssit"
      ],
      "include_colab_link": true
    },
    "kernelspec": {
      "name": "python3",
      "display_name": "Python 3"
    },
    "language_info": {
      "name": "python"
    }
  },
  "cells": [
    {
      "cell_type": "markdown",
      "metadata": {
        "id": "view-in-github",
        "colab_type": "text"
      },
      "source": [
        "<a href=\"https://colab.research.google.com/github/adam-foley/Survivor/blob/main/survivor_data_scraper.ipynb\" target=\"_parent\"><img src=\"https://colab.research.google.com/assets/colab-badge.svg\" alt=\"Open In Colab\"/></a>"
      ]
    },
    {
      "cell_type": "markdown",
      "metadata": {
        "id": "lUpgzSeWinDd"
      },
      "source": [
        "#Surivor - Outwit, Outplay, Outlast"
      ]
    },
    {
      "cell_type": "markdown",
      "metadata": {
        "id": "GHtCQs8l-Kuo"
      },
      "source": [
        "## Imports and functions"
      ]
    },
    {
      "cell_type": "code",
      "metadata": {
        "colab": {
          "base_uri": "https://localhost:8080/"
        },
        "id": "RGFiIXrJSX8a",
        "outputId": "1ff68c0f-8aa7-47c1-e7c0-8c35a8c9d7f6"
      },
      "source": [
        "%pip install gender_guesser\n",
        "%pip install pymysql\n",
        "\n",
        "from bs4 import BeautifulSoup\n",
        "\n",
        "import requests\n",
        "import urllib.request\n",
        "import time\n",
        "import random\n",
        "import requests\n",
        "import random\n",
        "import os\n",
        "import pymysql\n",
        "import time\n",
        "import gender_guesser.detector as gender\n",
        "import pandas as pd\n",
        "import numpy as np\n",
        "\n",
        "STATES = {'Alabama': 'AL', 'Alaska': 'AK', 'Arizona': 'AZ', 'Arkansas': 'AR', 'California': 'CA', 'Colorado': 'CO', 'Connecticut': 'CT', 'Delaware': 'DE', 'D.C.': 'DC', 'Florida': 'FL', \n",
        "          'Georgia': 'GA', 'Hawaii': 'HI', 'Idaho': 'ID', 'Illinois': 'IL', 'Indiana': 'IN', 'Iowa': 'IA', 'Kansas': 'KS', 'Kentucky': 'KY', 'Louisiana': 'LA', 'Maine': 'ME', \n",
        "          'Maryland': 'MD', 'Massachusetts': 'MA', 'Michigan': 'MI', 'Minnesota': 'MN', 'Mississippi': 'MS', 'Missouri': 'MO', 'Montana': 'MT', 'Nebraska': 'NE', \n",
        "          'Nevada': 'NV', 'New Hampshire': 'NH', 'New Jersey': 'NJ', 'New Mexico': 'NM', 'New York': 'NY', 'North Carolina': 'NC', 'North Dakota': 'ND', 'Ohio': 'OH', \n",
        "          'Oklahoma': 'OK', 'Oregon': 'OR', 'Pennsylvania': 'PA', 'Rhode Island': 'RI', 'South Carolina': 'SC', 'South Dakota': 'SD', 'Tennessee': 'TN', 'Texas': 'TX', \n",
        "          'Utah': 'UT', 'Vermont': 'VT', 'Virginia': 'VA', 'Washington': 'WA.', 'West Virginia': 'WV', 'Wisconsin': 'WI', 'Wyoming': 'WY'}\n",
        "\n",
        "\n",
        "SEASONS = ['Borneo', 'The_Australian_Outback', 'Africa', 'Marquesas', 'Thailand', 'The_Amazon', 'Pearl_Islands', 'All-Stars', 'Vanuatu', 'Palau', 'Guatemala','Panama', 'Cook_Islands', 'Fiji'] \n",
        "\n",
        "def getSeasonURL(season_num):\n",
        "  wiki_url = 'https://en.wikipedia.org/wiki/Survivor:_'\n",
        "  return wiki_url + SEASONS[ season_num - 1 ]\n",
        "\n",
        "def getSurvivorId(first_name, last_name):\n",
        "  first_name = \"'\"+first_name+\"'\"\n",
        "  last_name = \"'\"+last_name.strip(\" \")+\"'\"\n",
        "  query = \"Select survivor_id from survivor_data.Players where first_name =\"+first_name+\" and last_name=\"+last_name+\";\"\n",
        "  cur.execute(query)\n",
        "  id = cur.fetchone()[0]\n",
        "  return str(id)\n",
        "\n",
        "def getSurvivorLastName(first_name):\n",
        "  first_name = \"'\"+first_name+\"'\"\n",
        "  season = \"'\"+str(len(SEASONS))+\"'\"\n",
        "  query = '''Select p.last_name from survivor_data.Players p  \n",
        "                                left join (Select s.survivor_id \n",
        "                                          from Seasons s \n",
        "                                          left join Players p on s.survivor_id = p.survivor_id and s.season_id ='''+season+'''\n",
        "                                          where p.first_name ='''+first_name+'''\n",
        "                                          ) s on p.survivor_id = s.survivor_id\n",
        "                                          \n",
        "                                where p.survivor_id = s.survivor_id;'''\n",
        "                                \n",
        "  cur.execute(query)\n",
        "  id = cur.fetchone()[0]\n",
        "  return str(id)\n",
        "\n",
        "def executeQuery(query):\n",
        "  cur.execute(query)\n",
        "\n",
        "def commitQuery():\n",
        "  conn.commit()\n",
        "\n",
        "def findStateInString(s):\n",
        "  word = ''\n",
        "  for char in s:\n",
        "    if word in states:\n",
        "      return word\n",
        "    else:\n",
        "      word += char\n",
        "\n",
        "def addQuotes(s):\n",
        "  return \" '\"+s+\"' \"\n",
        "\n",
        "def getGender(name):\n",
        "  d = gender.Detector()\n",
        "  g = d.get_gender(name).split(\"_\")\n",
        "\n",
        "  if len(g) == 2:\n",
        "    gn = g[-1]\n",
        "  else:\n",
        "    gn = g[0]\n",
        "    \n",
        "  if gn == \"male\":\n",
        "    return 'M'\n",
        "  else:\n",
        "    return 'F'\n",
        "\n",
        "def getPlayerTableInfoRandom(url):\n",
        "  response = requests.get(url)\n",
        "  soup = BeautifulSoup(response.text, 'html.parser')\n",
        "  table = soup.find_all('table', {'class': 'wikitable'})[0]\n",
        "  table_rows = table.find_all('tr')\n",
        "\n",
        "  rows = []\n",
        "  for tr in table_rows:\n",
        "      td = tr.find_all('td')\n",
        "      td_row = [i.text for i in td]\n",
        "      rows.append(td_row[:-1])\n",
        "      random.shuffle(rows)\n",
        "\n",
        "  return rows\n",
        "\n",
        "def getPlayerTableInfo(url):\n",
        "  response = requests.get(url)\n",
        "  soup = BeautifulSoup(response.text, 'html.parser')\n",
        "  table = soup.find_all('table', {'class': 'wikitable'})[0]\n",
        "  table_rows = table.find_all('tr')\n",
        "\n",
        "  rows = []\n",
        "  for tr in table_rows:\n",
        "      td = tr.find_all('td')\n",
        "      td_row = [i.text for i in td]\n",
        "      rows.append(td_row[:-1])\n",
        "\n",
        "  return rows"
      ],
      "execution_count": 1,
      "outputs": [
        {
          "output_type": "stream",
          "name": "stdout",
          "text": [
            "Collecting gender_guesser\n",
            "  Downloading gender_guesser-0.4.0-py2.py3-none-any.whl (379 kB)\n",
            "\u001b[?25l\r\u001b[K     |▉                               | 10 kB 16.4 MB/s eta 0:00:01\r\u001b[K     |█▊                              | 20 kB 20.5 MB/s eta 0:00:01\r\u001b[K     |██▋                             | 30 kB 14.9 MB/s eta 0:00:01\r\u001b[K     |███▌                            | 40 kB 10.5 MB/s eta 0:00:01\r\u001b[K     |████▎                           | 51 kB 9.2 MB/s eta 0:00:01\r\u001b[K     |█████▏                          | 61 kB 8.5 MB/s eta 0:00:01\r\u001b[K     |██████                          | 71 kB 7.6 MB/s eta 0:00:01\r\u001b[K     |███████                         | 81 kB 8.4 MB/s eta 0:00:01\r\u001b[K     |███████▊                        | 92 kB 8.0 MB/s eta 0:00:01\r\u001b[K     |████████▋                       | 102 kB 7.4 MB/s eta 0:00:01\r\u001b[K     |█████████▌                      | 112 kB 7.4 MB/s eta 0:00:01\r\u001b[K     |██████████▍                     | 122 kB 7.4 MB/s eta 0:00:01\r\u001b[K     |███████████▎                    | 133 kB 7.4 MB/s eta 0:00:01\r\u001b[K     |████████████                    | 143 kB 7.4 MB/s eta 0:00:01\r\u001b[K     |█████████████                   | 153 kB 7.4 MB/s eta 0:00:01\r\u001b[K     |█████████████▉                  | 163 kB 7.4 MB/s eta 0:00:01\r\u001b[K     |██████████████▊                 | 174 kB 7.4 MB/s eta 0:00:01\r\u001b[K     |███████████████▌                | 184 kB 7.4 MB/s eta 0:00:01\r\u001b[K     |████████████████▍               | 194 kB 7.4 MB/s eta 0:00:01\r\u001b[K     |█████████████████▎              | 204 kB 7.4 MB/s eta 0:00:01\r\u001b[K     |██████████████████▏             | 215 kB 7.4 MB/s eta 0:00:01\r\u001b[K     |███████████████████             | 225 kB 7.4 MB/s eta 0:00:01\r\u001b[K     |███████████████████▉            | 235 kB 7.4 MB/s eta 0:00:01\r\u001b[K     |████████████████████▊           | 245 kB 7.4 MB/s eta 0:00:01\r\u001b[K     |█████████████████████▋          | 256 kB 7.4 MB/s eta 0:00:01\r\u001b[K     |██████████████████████▌         | 266 kB 7.4 MB/s eta 0:00:01\r\u001b[K     |███████████████████████▎        | 276 kB 7.4 MB/s eta 0:00:01\r\u001b[K     |████████████████████████▏       | 286 kB 7.4 MB/s eta 0:00:01\r\u001b[K     |█████████████████████████       | 296 kB 7.4 MB/s eta 0:00:01\r\u001b[K     |██████████████████████████      | 307 kB 7.4 MB/s eta 0:00:01\r\u001b[K     |██████████████████████████▉     | 317 kB 7.4 MB/s eta 0:00:01\r\u001b[K     |███████████████████████████▋    | 327 kB 7.4 MB/s eta 0:00:01\r\u001b[K     |████████████████████████████▌   | 337 kB 7.4 MB/s eta 0:00:01\r\u001b[K     |█████████████████████████████▍  | 348 kB 7.4 MB/s eta 0:00:01\r\u001b[K     |██████████████████████████████▎ | 358 kB 7.4 MB/s eta 0:00:01\r\u001b[K     |███████████████████████████████ | 368 kB 7.4 MB/s eta 0:00:01\r\u001b[K     |████████████████████████████████| 378 kB 7.4 MB/s eta 0:00:01\r\u001b[K     |████████████████████████████████| 379 kB 7.4 MB/s \n",
            "\u001b[?25hInstalling collected packages: gender-guesser\n",
            "Successfully installed gender-guesser-0.4.0\n",
            "Collecting pymysql\n",
            "  Downloading PyMySQL-1.0.2-py3-none-any.whl (43 kB)\n",
            "\u001b[K     |████████████████████████████████| 43 kB 1.5 MB/s \n",
            "\u001b[?25hInstalling collected packages: pymysql\n",
            "Successfully installed pymysql-1.0.2\n"
          ]
        }
      ]
    },
    {
      "cell_type": "markdown",
      "metadata": {
        "id": "dW1EGwP-jvOp"
      },
      "source": [
        "## AWS Login"
      ]
    },
    {
      "cell_type": "code",
      "metadata": {
        "id": "Mv-4qVDNjuXU",
        "colab": {
          "base_uri": "https://localhost:8080/"
        },
        "outputId": "63ac42fa-3962-429e-8418-565550e076c8"
      },
      "source": [
        "  succeess = False\n",
        "\n",
        "  while not succeess:\n",
        "    password = input(\"Password: \");\n",
        "    try:\n",
        "      conn = pymysql.connect(\n",
        "          host='aws-survivor.cpapv35x7rsh.us-east-2.rds.amazonaws.com',\n",
        "          port=int(3306),\n",
        "          user=\"admin\",\n",
        "          passwd=password,\n",
        "          db=\"survivor_data\",\n",
        "          charset='utf8mb4')\n",
        "      cur = conn.cursor()\n",
        "      succeess = True\n",
        "    except:\n",
        "      print(\"Wrong Password\")\n",
        "  print(\"Connection Made\")"
      ],
      "execution_count": 2,
      "outputs": [
        {
          "output_type": "stream",
          "name": "stdout",
          "text": [
            "Password: Frederickwilliams121234\n",
            "Connection Made\n"
          ]
        }
      ]
    },
    {
      "cell_type": "markdown",
      "metadata": {
        "id": "v0Y1TJsYsmkb"
      },
      "source": [
        "## Adding Players to Players Table"
      ]
    },
    {
      "cell_type": "code",
      "metadata": {
        "id": "YsKRHzLjJ5bX",
        "colab": {
          "base_uri": "https://localhost:8080/"
        },
        "outputId": "556ef2db-d268-4181-cbf1-57e7defa7a6d"
      },
      "source": [
        "url = getSeasonURL(len(SEASONS))\n",
        "rows =getPlayerTableInfoRandom(url)\n",
        "print(rows)\n",
        "\n",
        "for row in rows:\n",
        "  if len(row) !=0:\n",
        "    r_split = row[0].split(\",\")\n",
        "\n",
        "    if len(r_split) == 3:\n",
        "      name_age = r_split[0]\n",
        "      first_name = name_age[:-2].split(\" \", 1)[0]\n",
        "      last_name  = name_age[:-2].split(\" \", 1)[1]\n",
        "      age = name_age[-2:]\n",
        "      gen = getGender(first_name)\n",
        "      state = r_split[-1].strip(\"\\n\")[1:]\n",
        "\n",
        "      print(first_name, last_name, age, gen, state)\n",
        "\n",
        "      try:\n",
        "        query = \"INSERT INTO `survivor_data`.`Players` (`first_name`, `last_name`, `sex`, `state`) VALUES (\"+addQuotes(first_name)+\",\"+addQuotes(last_name)+\",\"+addQuotes(gen)+\",\"+addQuotes(STATES[state])+\");\"\n",
        "        print(query)\n",
        "        #executeQuery(query)\n",
        "      except:\n",
        "        print(\"Error\")\n",
        "\n",
        "#commitQuery()"
      ],
      "execution_count": 4,
      "outputs": [
        {
          "output_type": "stream",
          "name": "stdout",
          "text": [
            "[['Edgardo Rivera28, Miami Beach, Florida\\n', 'Moto\\n', 'Ravu\\n'], ['Michelle Yi23, Cincinnati, Ohio\\n', 'Ravu\\n', 'Moto\\n', 'Bula Bula\\n'], ['Rita Verreos38, San Antonio, Texas\\n', 'Ravu\\n', '\\n', '\\n'], ['Cassandra Franklin42, Los Angeles, California\\n', 'Moto\\n', 'Moto\\n'], ['Anthony Robinson32, Compton, California\\n', 'Ravu\\n', 'Ravu\\n', '\\n'], ['James \"Rocky\" Reid28, Los Angeles, California\\n', 'Ravu\\n', 'Ravu\\n', '\\n'], ['Mookie Lee25, Chicago, Illinois\\n', 'Ravu\\n', 'Ravu\\n'], ['Kenward \"Boo\" Bernis34, Lafayette, Louisiana\\n', 'Moto\\n', 'Moto\\n'], ['Jessica deBen27, Los Angeles, California\\n', 'Ravu\\n', '\\n', '\\n'], ['Stacy Kimball27, Boulder, Colorado\\n', 'Moto\\n', 'Moto\\n'], ['Earl Cole35, Santa Monica, California\\n', 'Ravu\\n', 'Moto\\n'], ['Erica Durousseau27, Baton Rouge, Louisiana\\n', 'Ravu\\n', '\\n', '\\n'], ['Lisette \"Lisi\" Linares36, Los Angeles, California\\n', 'Moto\\n', 'Ravu[b]\\n', '\\n'], ['Yau-Man Chan54, Martinez, California\\n', 'Ravu\\n', 'Moto\\n'], ['Andria \"Dreamz\" Herd25, Wilmington, North Carolina\\n', 'Moto\\n', 'Ravu\\n'], ['Liliana Gomez25, Los Angeles, California\\n', 'Moto\\n', '\\n', '\\n'], ['Alex Angarita28, Los Angeles, California\\n', 'Moto\\n', 'Ravu\\n'], [], ['Gary Stritesky55, Ramsey, Minnesota\\n', 'Moto\\n', '\\n', '\\n'], ['Sylvia Kwan52, Ross, California\\n', 'Ravu[a]\\n', '\\n', '\\n']]\n",
            "Edgardo Rivera 28 M Florida\n",
            "INSERT INTO `survivor_data`.`Players` (`first_name`, `last_name`, `sex`, `state`) VALUES ( 'Edgardo' , 'Rivera' , 'M' , 'FL' );\n",
            "Michelle Yi 23 F Ohio\n",
            "INSERT INTO `survivor_data`.`Players` (`first_name`, `last_name`, `sex`, `state`) VALUES ( 'Michelle' , 'Yi' , 'F' , 'OH' );\n",
            "Rita Verreos 38 F Texas\n",
            "INSERT INTO `survivor_data`.`Players` (`first_name`, `last_name`, `sex`, `state`) VALUES ( 'Rita' , 'Verreos' , 'F' , 'TX' );\n",
            "Cassandra Franklin 42 F California\n",
            "INSERT INTO `survivor_data`.`Players` (`first_name`, `last_name`, `sex`, `state`) VALUES ( 'Cassandra' , 'Franklin' , 'F' , 'CA' );\n",
            "Anthony Robinson 32 M California\n",
            "INSERT INTO `survivor_data`.`Players` (`first_name`, `last_name`, `sex`, `state`) VALUES ( 'Anthony' , 'Robinson' , 'M' , 'CA' );\n",
            "James \"Rocky\" Reid 28 M California\n",
            "INSERT INTO `survivor_data`.`Players` (`first_name`, `last_name`, `sex`, `state`) VALUES ( 'James' , '\"Rocky\" Reid' , 'M' , 'CA' );\n",
            "Mookie Lee 25 F Illinois\n",
            "INSERT INTO `survivor_data`.`Players` (`first_name`, `last_name`, `sex`, `state`) VALUES ( 'Mookie' , 'Lee' , 'F' , 'IL' );\n",
            "Kenward \"Boo\" Bernis 34 F Louisiana\n",
            "INSERT INTO `survivor_data`.`Players` (`first_name`, `last_name`, `sex`, `state`) VALUES ( 'Kenward' , '\"Boo\" Bernis' , 'F' , 'LA' );\n",
            "Jessica deBen 27 F California\n",
            "INSERT INTO `survivor_data`.`Players` (`first_name`, `last_name`, `sex`, `state`) VALUES ( 'Jessica' , 'deBen' , 'F' , 'CA' );\n",
            "Stacy Kimball 27 F Colorado\n",
            "INSERT INTO `survivor_data`.`Players` (`first_name`, `last_name`, `sex`, `state`) VALUES ( 'Stacy' , 'Kimball' , 'F' , 'CO' );\n",
            "Earl Cole 35 M California\n",
            "INSERT INTO `survivor_data`.`Players` (`first_name`, `last_name`, `sex`, `state`) VALUES ( 'Earl' , 'Cole' , 'M' , 'CA' );\n",
            "Erica Durousseau 27 F Louisiana\n",
            "INSERT INTO `survivor_data`.`Players` (`first_name`, `last_name`, `sex`, `state`) VALUES ( 'Erica' , 'Durousseau' , 'F' , 'LA' );\n",
            "Lisette \"Lisi\" Linares 36 F California\n",
            "INSERT INTO `survivor_data`.`Players` (`first_name`, `last_name`, `sex`, `state`) VALUES ( 'Lisette' , '\"Lisi\" Linares' , 'F' , 'CA' );\n",
            "Yau-Man Chan 54 F California\n",
            "INSERT INTO `survivor_data`.`Players` (`first_name`, `last_name`, `sex`, `state`) VALUES ( 'Yau-Man' , 'Chan' , 'F' , 'CA' );\n",
            "Andria \"Dreamz\" Herd 25 F North Carolina\n",
            "INSERT INTO `survivor_data`.`Players` (`first_name`, `last_name`, `sex`, `state`) VALUES ( 'Andria' , '\"Dreamz\" Herd' , 'F' , 'NC' );\n",
            "Liliana Gomez 25 F California\n",
            "INSERT INTO `survivor_data`.`Players` (`first_name`, `last_name`, `sex`, `state`) VALUES ( 'Liliana' , 'Gomez' , 'F' , 'CA' );\n",
            "Alex Angarita 28 M California\n",
            "INSERT INTO `survivor_data`.`Players` (`first_name`, `last_name`, `sex`, `state`) VALUES ( 'Alex' , 'Angarita' , 'M' , 'CA' );\n",
            "Gary Stritesky 55 M Minnesota\n",
            "INSERT INTO `survivor_data`.`Players` (`first_name`, `last_name`, `sex`, `state`) VALUES ( 'Gary' , 'Stritesky' , 'M' , 'MN' );\n",
            "Sylvia Kwan 52 F California\n",
            "INSERT INTO `survivor_data`.`Players` (`first_name`, `last_name`, `sex`, `state`) VALUES ( 'Sylvia' , 'Kwan' , 'F' , 'CA' );\n"
          ]
        }
      ]
    },
    {
      "cell_type": "markdown",
      "metadata": {
        "id": "BvmYrBKF0jXA"
      },
      "source": [
        "## Add Players to Seasons Table"
      ]
    },
    {
      "cell_type": "code",
      "metadata": {
        "id": "JBZ0yAF60rhn",
        "colab": {
          "base_uri": "https://localhost:8080/"
        },
        "outputId": "bd084e38-59ac-4066-bc5d-e71c542d50b5"
      },
      "source": [
        "season = len(SEASONS)\n",
        "url = getSeasonURL(season)\n",
        "rows =getPlayerTableInfoRandom(url)\n",
        "print(rows)\n",
        "\n",
        "for row in rows:\n",
        "  if len(row) !=0:\n",
        "    r_split = row[0].split(\",\")\n",
        "\n",
        "    if len(r_split) == 3:\n",
        "      name_age = r_split[0]\n",
        "      first_name = name_age[:-2].split(\" \", 1)[0]\n",
        "      last_name  = name_age[:-2].split(\" \", 1)[1]\n",
        "      age = name_age[-2:]\n",
        "\n",
        "\n",
        "      try:\n",
        "        survivor_id = getSurvivorId(first_name, last_name)\n",
        "        query = \"INSERT INTO `survivor_data`.`Seasons` (season_id, survivor_id, age)\"+\" VALUES('\"+str(season)+\"','\"+str(survivor_id)+\"','\"+str(age)+\"');\"\n",
        "        \n",
        "        print(query)\n",
        "        #executeQuery(query)\n",
        "      except:\n",
        "        print(first_name, last_name, age)\n",
        "\n",
        "#commitQuery()"
      ],
      "execution_count": 6,
      "outputs": [
        {
          "output_type": "stream",
          "name": "stdout",
          "text": [
            "[['Earl Cole35, Santa Monica, California\\n', 'Ravu\\n', 'Moto\\n'], ['Gary Stritesky55, Ramsey, Minnesota\\n', 'Moto\\n', '\\n', '\\n'], [], ['James \"Rocky\" Reid28, Los Angeles, California\\n', 'Ravu\\n', 'Ravu\\n', '\\n'], ['Edgardo Rivera28, Miami Beach, Florida\\n', 'Moto\\n', 'Ravu\\n'], ['Andria \"Dreamz\" Herd25, Wilmington, North Carolina\\n', 'Moto\\n', 'Ravu\\n'], ['Erica Durousseau27, Baton Rouge, Louisiana\\n', 'Ravu\\n', '\\n', '\\n'], ['Lisette \"Lisi\" Linares36, Los Angeles, California\\n', 'Moto\\n', 'Ravu[b]\\n', '\\n'], ['Stacy Kimball27, Boulder, Colorado\\n', 'Moto\\n', 'Moto\\n'], ['Anthony Robinson32, Compton, California\\n', 'Ravu\\n', 'Ravu\\n', '\\n'], ['Cassandra Franklin42, Los Angeles, California\\n', 'Moto\\n', 'Moto\\n'], ['Yau-Man Chan54, Martinez, California\\n', 'Ravu\\n', 'Moto\\n'], ['Rita Verreos38, San Antonio, Texas\\n', 'Ravu\\n', '\\n', '\\n'], ['Sylvia Kwan52, Ross, California\\n', 'Ravu[a]\\n', '\\n', '\\n'], ['Jessica deBen27, Los Angeles, California\\n', 'Ravu\\n', '\\n', '\\n'], ['Michelle Yi23, Cincinnati, Ohio\\n', 'Ravu\\n', 'Moto\\n', 'Bula Bula\\n'], ['Alex Angarita28, Los Angeles, California\\n', 'Moto\\n', 'Ravu\\n'], ['Mookie Lee25, Chicago, Illinois\\n', 'Ravu\\n', 'Ravu\\n'], ['Kenward \"Boo\" Bernis34, Lafayette, Louisiana\\n', 'Moto\\n', 'Moto\\n'], ['Liliana Gomez25, Los Angeles, California\\n', 'Moto\\n', '\\n', '\\n']]\n",
            "INSERT INTO `survivor_data`.`Seasons` (season_id, survivor_id, age) VALUES('14','268','35');\n",
            "INSERT INTO `survivor_data`.`Seasons` (season_id, survivor_id, age) VALUES('14','275','55');\n",
            "INSERT INTO `survivor_data`.`Seasons` (season_id, survivor_id, age) VALUES('14','263','28');\n",
            "INSERT INTO `survivor_data`.`Seasons` (season_id, survivor_id, age) VALUES('14','258','28');\n",
            "INSERT INTO `survivor_data`.`Seasons` (season_id, survivor_id, age) VALUES('14','272','25');\n",
            "INSERT INTO `survivor_data`.`Seasons` (season_id, survivor_id, age) VALUES('14','269','27');\n",
            "INSERT INTO `survivor_data`.`Seasons` (season_id, survivor_id, age) VALUES('14','270','36');\n",
            "INSERT INTO `survivor_data`.`Seasons` (season_id, survivor_id, age) VALUES('14','267','27');\n",
            "INSERT INTO `survivor_data`.`Seasons` (season_id, survivor_id, age) VALUES('14','262','32');\n",
            "INSERT INTO `survivor_data`.`Seasons` (season_id, survivor_id, age) VALUES('14','261','42');\n",
            "INSERT INTO `survivor_data`.`Seasons` (season_id, survivor_id, age) VALUES('14','271','54');\n",
            "INSERT INTO `survivor_data`.`Seasons` (season_id, survivor_id, age) VALUES('14','260','38');\n",
            "INSERT INTO `survivor_data`.`Seasons` (season_id, survivor_id, age) VALUES('14','276','52');\n",
            "INSERT INTO `survivor_data`.`Seasons` (season_id, survivor_id, age) VALUES('14','266','27');\n",
            "INSERT INTO `survivor_data`.`Seasons` (season_id, survivor_id, age) VALUES('14','259','23');\n",
            "INSERT INTO `survivor_data`.`Seasons` (season_id, survivor_id, age) VALUES('14','274','28');\n",
            "INSERT INTO `survivor_data`.`Seasons` (season_id, survivor_id, age) VALUES('14','264','25');\n",
            "INSERT INTO `survivor_data`.`Seasons` (season_id, survivor_id, age) VALUES('14','265','34');\n",
            "INSERT INTO `survivor_data`.`Seasons` (season_id, survivor_id, age) VALUES('14','273','25');\n"
          ]
        }
      ]
    },
    {
      "cell_type": "markdown",
      "metadata": {
        "id": "nsWwPu-CPhmW"
      },
      "source": [
        ""
      ]
    },
    {
      "cell_type": "markdown",
      "metadata": {
        "id": "feuANwuIehxQ"
      },
      "source": [
        "## Add Votes for in Season Table"
      ]
    },
    {
      "cell_type": "code",
      "metadata": {
        "id": "jG3SQe1Tef5v",
        "colab": {
          "base_uri": "https://localhost:8080/"
        },
        "outputId": "dea35a95-5ee6-4748-e53f-447abe2a7cba"
      },
      "source": [
        "a = [ 'Nathan', 'Oscar', 'Rebekah']\n",
        "v = [ 'Candice', 'Cecilia', 'Adam']\n",
        "season = len(SEASONS)\n",
        "\n",
        "\n",
        "for player in a:\n",
        "  survivor_id = getSurvivorId(player,getSurvivorLastName(player))\n",
        "  query = \"UPDATE `survivor_data`.`Seasons` SET `vote_adam` = 1 WHERE `season_id` ='\"+str(season)+\"' and survivor_id ='\"+survivor_id+\"';\"\n",
        "  #executeQuery(query)\n",
        "  print(query)\n",
        "\n",
        "for player in v:\n",
        "  survivor_id = getSurvivorId(player,getSurvivorLastName(player))\n",
        "  query = \"UPDATE `survivor_data`.`Seasons` SET `vote_victoria` = 1 WHERE `season_id` ='\"+str(season)+\"' and survivor_id ='\"+survivor_id+\"';\"\n",
        "  #executeQuery(query)\n",
        "  print(query)\n",
        "\n",
        "#commitQuery()"
      ],
      "execution_count": null,
      "outputs": [
        {
          "output_type": "stream",
          "name": "stdout",
          "text": [
            "UPDATE `survivor_data`.`Seasons` SET `vote_adam` = 1 WHERE `season_id` ='13' and survivor_id ='252';\n",
            "UPDATE `survivor_data`.`Seasons` SET `vote_adam` = 1 WHERE `season_id` ='13' and survivor_id ='247';\n",
            "UPDATE `survivor_data`.`Seasons` SET `vote_adam` = 1 WHERE `season_id` ='13' and survivor_id ='250';\n",
            "UPDATE `survivor_data`.`Seasons` SET `vote_victoria` = 1 WHERE `season_id` ='13' and survivor_id ='257';\n",
            "UPDATE `survivor_data`.`Seasons` SET `vote_victoria` = 1 WHERE `season_id` ='13' and survivor_id ='251';\n",
            "UPDATE `survivor_data`.`Seasons` SET `vote_victoria` = 1 WHERE `season_id` ='13' and survivor_id ='241';\n"
          ]
        }
      ]
    },
    {
      "cell_type": "markdown",
      "metadata": {
        "id": "azJ-NNF4CEZz"
      },
      "source": [
        "## Set Players Place in the Season"
      ]
    },
    {
      "cell_type": "code",
      "metadata": {
        "id": "ClhUl5muChH0",
        "colab": {
          "base_uri": "https://localhost:8080/"
        },
        "outputId": "28464fb8-aea0-4dbf-c52e-6679a6c40743"
      },
      "source": [
        "season = len(SEASONS)\n",
        "url = getSeasonURL(season)\n",
        "rows =getPlayerTableInfo(url)\n",
        "rows = rows[1:]\n",
        "place = len(rows)\n",
        "\n",
        "print(rows)\n",
        "\n",
        "for row in rows:\n",
        "  if len(row) !=0:\n",
        "    r_split = row[0].split(\",\")\n",
        "\n",
        "    if len(r_split) == 3:\n",
        "      name_age = r_split[0]\n",
        "      first_name = name_age[:-2].split(\" \", 1)[0].strip(\" \")\n",
        "      last_name  = name_age[:-2].split(\" \", 1)[1].strip(\" \").strip(\"'\")\n",
        "\n",
        "      try:\n",
        "        print(first_name)\n",
        "        survivor_id = getSurvivorId(first_name, last_name)\n",
        "        query = \"UPDATE `survivor_data`.`Seasons` SET place =\"+ str(place) +\" WHERE `season_id` ='\"+str(season)+\"'and `survivor_id` ='\"+survivor_id+\"';\"\n",
        "        print(query)\n",
        "        executeQuery(query)\n",
        "\n",
        "      except:\n",
        "        print(\"Error: \", first_name, last_name) \n",
        "        \n",
        "  place -= 1   \n",
        "\n",
        "commitQuery()"
      ],
      "execution_count": null,
      "outputs": [
        {
          "output_type": "stream",
          "name": "stdout",
          "text": [
            "[['Sekou Bunch45, Los Angeles, California\\n', 'Manihiki\\n', '\\n', '\\n', '\\n'], ['Virgilio \"Billy\" Garcia36, New York City, New York\\n', 'Aitutaki\\n', '\\n', '\\n', '\\n'], ['Cecilia Mansilla29, Oakland, California\\n', 'Aitutaki\\n', 'Aitutaki\\n', '\\n', '\\n'], ['John \"J.P.\" Calderon30, Long Beach, California\\n', 'Aitutaki\\n', 'Rarotonga\\n', '\\n', '\\n'], ['Stephannie Favor35, Columbia, South Carolina\\n', 'Manihiki\\n', 'Rarotonga\\n', '\\n', '\\n'], ['Anh-Tuan \"Cao Boi\" Bui42, Christiansburg, Virginia\\n', 'Puka Puka\\n', 'Aitutaki\\n', '\\n', '\\n'], ['Cristina Coria35, Santa Monica, California\\n', 'Aitutaki\\n', 'Rarotonga\\n', '\\n', '\\n'], ['Jessica Smith27, Chico, California\\n', 'Rarotonga\\n', 'Aitutaki\\n', '\\n', '\\n'], ['Brad Virata29, Santa Monica, California\\n', 'Puka Puka\\n', 'Rarotonga\\n', 'Rarotonga\\n', '\\n'], ['Rebecca Borman34, Laurelton, New York\\n', 'Manihiki\\n', 'Rarotonga\\n', 'Rarotonga\\n', '\\n'], ['Jenny Guzon-Bae36, Lake Forest, Illinois\\n', 'Puka Puka\\n', 'Rarotonga\\n', 'Rarotonga\\n', '\\n'], ['Nathan \"Nate\" Gonzalez26, Playa del Rey, California\\n', 'Manihiki\\n', 'Rarotonga\\n', 'Rarotonga\\n', 'Aitutonga\\n'], ['Candice Woodcock23, Washington, D.C.\\n', 'Rarotonga\\n', 'Aitutaki\\n', 'Rarotonga\\n'], ['Jonathan Penner44, Los Angeles, California\\n', 'Rarotonga\\n', 'Aitutaki\\n', 'Rarotonga\\n'], ['Parvati Shallow23, West Hollywood, California\\n', 'Rarotonga\\n', 'Rarotonga\\n', 'Rarotonga\\n'], ['Adam Gentry27, San Diego, California\\n', 'Rarotonga\\n', 'Rarotonga\\n', 'Rarotonga\\n'], ['Sundra Oakley31, Los Angeles, California\\n', 'Manihiki\\n', 'Aitutaki\\n', 'Aitutaki\\n'], ['Rebekah \"Becky\" Lee28, Washington, D.C.\\n', 'Puka Puka\\n', 'Aitutaki\\n', 'Aitutaki\\n'], ['Oscar \"Ozzy\" Lusth24, Venice, California\\n', 'Aitutaki\\n', 'Aitutaki\\n', 'Aitutaki\\n'], ['Yul Kwon31, San Mateo, California\\n', 'Puka Puka\\n', 'Aitutaki\\n', 'Aitutaki\\n']]\n",
            "Sekou\n",
            "UPDATE `survivor_data`.`Seasons` SET place =20 WHERE `season_id` ='13'and `survivor_id` ='243';\n",
            "Virgilio\n",
            "UPDATE `survivor_data`.`Seasons` SET place =19 WHERE `season_id` ='13'and `survivor_id` ='238';\n",
            "Cecilia\n",
            "UPDATE `survivor_data`.`Seasons` SET place =18 WHERE `season_id` ='13'and `survivor_id` ='251';\n",
            "John\n",
            "UPDATE `survivor_data`.`Seasons` SET place =17 WHERE `season_id` ='13'and `survivor_id` ='249';\n",
            "Stephannie\n",
            "UPDATE `survivor_data`.`Seasons` SET place =16 WHERE `season_id` ='13'and `survivor_id` ='245';\n",
            "Anh-Tuan\n",
            "UPDATE `survivor_data`.`Seasons` SET place =15 WHERE `season_id` ='13'and `survivor_id` ='246';\n",
            "Cristina\n",
            "UPDATE `survivor_data`.`Seasons` SET place =14 WHERE `season_id` ='13'and `survivor_id` ='240';\n",
            "Jessica\n",
            "UPDATE `survivor_data`.`Seasons` SET place =13 WHERE `season_id` ='13'and `survivor_id` ='248';\n",
            "Brad\n",
            "UPDATE `survivor_data`.`Seasons` SET place =12 WHERE `season_id` ='13'and `survivor_id` ='242';\n",
            "Rebecca\n",
            "UPDATE `survivor_data`.`Seasons` SET place =11 WHERE `season_id` ='13'and `survivor_id` ='244';\n",
            "Jenny\n",
            "UPDATE `survivor_data`.`Seasons` SET place =10 WHERE `season_id` ='13'and `survivor_id` ='239';\n",
            "Nathan\n",
            "UPDATE `survivor_data`.`Seasons` SET place =9 WHERE `season_id` ='13'and `survivor_id` ='252';\n",
            "Candice\n",
            "UPDATE `survivor_data`.`Seasons` SET place =8 WHERE `season_id` ='13'and `survivor_id` ='257';\n",
            "Jonathan\n",
            "UPDATE `survivor_data`.`Seasons` SET place =7 WHERE `season_id` ='13'and `survivor_id` ='255';\n",
            "Parvati\n",
            "UPDATE `survivor_data`.`Seasons` SET place =6 WHERE `season_id` ='13'and `survivor_id` ='256';\n",
            "Adam\n",
            "UPDATE `survivor_data`.`Seasons` SET place =5 WHERE `season_id` ='13'and `survivor_id` ='241';\n",
            "Sundra\n",
            "UPDATE `survivor_data`.`Seasons` SET place =4 WHERE `season_id` ='13'and `survivor_id` ='253';\n",
            "Rebekah\n",
            "UPDATE `survivor_data`.`Seasons` SET place =3 WHERE `season_id` ='13'and `survivor_id` ='250';\n",
            "Oscar\n",
            "UPDATE `survivor_data`.`Seasons` SET place =2 WHERE `season_id` ='13'and `survivor_id` ='247';\n",
            "Yul\n",
            "UPDATE `survivor_data`.`Seasons` SET place =1 WHERE `season_id` ='13'and `survivor_id` ='254';\n"
          ]
        }
      ]
    },
    {
      "cell_type": "markdown",
      "metadata": {
        "id": "ih9fv521hznP"
      },
      "source": [
        "## Getting Challenge Winners"
      ]
    },
    {
      "cell_type": "code",
      "metadata": {
        "id": "-1lf6u9Ah2c_"
      },
      "source": [
        "response = requests.get(getSeasonURL(7))\n",
        "soup = BeautifulSoup(response.text, 'html.parser')\n",
        "table = soup.find_all('table', {'class': 'wikitable'})[1]\n",
        "table_rows = table.find_all('tr')\n",
        "\n",
        "rows = []\n",
        "for tr in table_rows:\n",
        "    td = tr.find_all('td')\n",
        "    td_row = [i.text for i in td]\n",
        "    if len(td_row) != 0:\n",
        "      rows.append(td_row)\n",
        "\n",
        "print(rows)\n",
        "\n",
        "count = 0\n",
        "\n",
        "for epi in rows:\n",
        "  if count >= 8:\n",
        "    reward = 'N/A'\n",
        "    immunity = 'N/A'\n",
        "\n",
        "    print(epi)\n",
        "\n",
        "    if epi[-1].strip(\"\\n\") != 'Runner-up' or epi[-1].strip(\"\\n\") != 'Sole Survivor':\n",
        "      if epi[-1][:2] == '13' or epi[-1][:2] == '14':\n",
        "        immunity = epi[-3].strip(\"\\n\")\n",
        "      elif len(epi) >= 4:\n",
        "        reward = epi[-4].strip(\"\\n\")\n",
        "        immunity = epi[-3].strip(\"\\n\")\n",
        "    \n",
        "    print(reward, immunity)\n",
        "  count +=1"
      ],
      "execution_count": null,
      "outputs": []
    },
    {
      "cell_type": "code",
      "metadata": {
        "id": "VZqK-xHhh0c-"
      },
      "source": [
        ""
      ],
      "execution_count": null,
      "outputs": []
    },
    {
      "cell_type": "markdown",
      "metadata": {
        "id": "A7Hpygp-h0H2"
      },
      "source": [
        ""
      ]
    }
  ]
}