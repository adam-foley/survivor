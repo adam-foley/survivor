{
  "nbformat": 4,
  "nbformat_minor": 0,
  "metadata": {
    "colab": {
      "name": "Copy of survivor_data_scraper.ipynb",
      "provenance": [],
      "collapsed_sections": [
        "v0Y1TJsYsmkb",
        "BvmYrBKF0jXA",
        "ih9fv521hznP",
        "4MKRZdVzssit"
      ],
      "include_colab_link": true
    },
    "kernelspec": {
      "name": "python3",
      "display_name": "Python 3"
    },
    "language_info": {
      "name": "python"
    }
  },
  "cells": [
    {
      "cell_type": "markdown",
      "metadata": {
        "id": "view-in-github",
        "colab_type": "text"
      },
      "source": [
        "<a href=\"https://colab.research.google.com/github/adam-foley/Survivor/blob/main/survivor_data_scraper.ipynb\" target=\"_parent\"><img src=\"https://colab.research.google.com/assets/colab-badge.svg\" alt=\"Open In Colab\"/></a>"
      ]
    },
    {
      "cell_type": "markdown",
      "metadata": {
        "id": "lUpgzSeWinDd"
      },
      "source": [
        "#Surivor - Outwit, Outplay, Outlast"
      ]
    },
    {
      "cell_type": "markdown",
      "metadata": {
        "id": "GHtCQs8l-Kuo"
      },
      "source": [
        "## Imports and functions"
      ]
    },
    {
      "cell_type": "code",
      "metadata": {
        "colab": {
          "base_uri": "https://localhost:8080/"
        },
        "id": "RGFiIXrJSX8a",
        "outputId": "cfaccfae-95a6-4fd1-d8ad-9c0043857428"
      },
      "source": [
        "%pip install gender_guesser\n",
        "%pip install pymysql\n",
        "\n",
        "from bs4 import BeautifulSoup\n",
        "\n",
        "import requests\n",
        "import urllib.request\n",
        "import time\n",
        "import random\n",
        "import requests\n",
        "import random\n",
        "import os\n",
        "import pymysql\n",
        "import time\n",
        "import gender_guesser.detector as gender\n",
        "import pandas as pd\n",
        "import numpy as np\n",
        "\n",
        "STATES = {'Alabama': 'AL', 'Alaska': 'AK', 'Arizona': 'AZ', 'Arkansas': 'AR', 'California': 'CA', 'Colorado': 'CO', 'Connecticut': 'CT', 'Delaware': 'DE', 'D.C.': 'DC', 'Florida': 'FL', \n",
        "          'Georgia': 'GA', 'Hawaii': 'HI', 'Idaho': 'ID', 'Illinois': 'IL', 'Indiana': 'IN', 'Iowa': 'IA', 'Kansas': 'KS', 'Kentucky': 'KY', 'Louisiana': 'LA', 'Maine': 'ME', \n",
        "          'Maryland': 'MD', 'Massachusetts': 'MA', 'Michigan': 'MI', 'Minnesota': 'MN', 'Mississippi': 'MS', 'Missouri': 'MO', 'Montana': 'MT', 'Nebraska': 'NE', \n",
        "          'Nevada': 'NV', 'New Hampshire': 'NH', 'New Jersey': 'NJ', 'New Mexico': 'NM', 'New York': 'NY', 'North Carolina': 'NC', 'North Dakota': 'ND', 'Ohio': 'OH', \n",
        "          'Oklahoma': 'OK', 'Oregon': 'OR', 'Pennsylvania': 'PA', 'Rhode Island': 'RI', 'South Carolina': 'SC', 'South Dakota': 'SD', 'Tennessee': 'TN', 'Texas': 'TX', \n",
        "          'Utah': 'UT', 'Vermont': 'VT', 'Virginia': 'VA', 'Washington': 'WA.', 'West Virginia': 'WV', 'Wisconsin': 'WI', 'Wyoming': 'WY'}\n",
        "\n",
        "\n",
        "SEASONS = ['Borneo', 'The_Australian_Outback', 'Africa', 'Marquesas', 'Thailand', 'The_Amazon', 'Pearl_Islands', 'All-Stars', 'Vanuatu', 'Palau', 'Guatemala','Panama', 'Cook_Islands'] \n",
        "\n",
        "def getSeasonURL(season_num):\n",
        "  wiki_url = 'https://en.wikipedia.org/wiki/Survivor:_'\n",
        "  return wiki_url + SEASONS[ season_num - 1 ]\n",
        "\n",
        "def getSurvivorId(first_name, last_name):\n",
        "  first_name = \"'\"+first_name+\"'\"\n",
        "  last_name = \"'\"+last_name.strip(\" \")+\"'\"\n",
        "  query = \"Select survivor_id from survivor_data.Players where first_name =\"+first_name+\" and last_name=\"+last_name+\";\"\n",
        "  cur.execute(query)\n",
        "  id = cur.fetchone()[0]\n",
        "  return str(id)\n",
        "\n",
        "def executeQuery(query):\n",
        "  cur.execute(query)\n",
        "\n",
        "def commitQuery():\n",
        "  conn.commit()\n",
        "\n",
        "def findStateInString(s):\n",
        "  word = ''\n",
        "  for char in s:\n",
        "    if word in states:\n",
        "      return word\n",
        "    else:\n",
        "      word += char\n",
        "\n",
        "def addQuotes(s):\n",
        "  return \" '\"+s+\"' \"\n",
        "\n",
        "def getGender(name):\n",
        "  d = gender.Detector()\n",
        "  g = d.get_gender(name).split(\"_\")\n",
        "\n",
        "  if len(g) == 2:\n",
        "    gn = g[-1]\n",
        "  else:\n",
        "    gn = g[0]\n",
        "    \n",
        "  if gn == \"male\":\n",
        "    return 'M'\n",
        "  else:\n",
        "    return 'F'\n",
        "\n",
        "def getPlayerTableInfoRandom(url):\n",
        "  response = requests.get(url)\n",
        "  soup = BeautifulSoup(response.text, 'html.parser')\n",
        "  table = soup.find_all('table', {'class': 'wikitable'})[0]\n",
        "  table_rows = table.find_all('tr')\n",
        "\n",
        "  rows = []\n",
        "  for tr in table_rows:\n",
        "      td = tr.find_all('td')\n",
        "      td_row = [i.text for i in td]\n",
        "      rows.append(td_row[:-1])\n",
        "      random.shuffle(rows)\n",
        "\n",
        "  return rows\n",
        "\n",
        "def getPlayerTableInfo(url):\n",
        "  response = requests.get(url)\n",
        "  soup = BeautifulSoup(response.text, 'html.parser')\n",
        "  table = soup.find_all('table', {'class': 'wikitable'})[0]\n",
        "  table_rows = table.find_all('tr')\n",
        "\n",
        "  rows = []\n",
        "  for tr in table_rows:\n",
        "      td = tr.find_all('td')\n",
        "      td_row = [i.text for i in td]\n",
        "      rows.append(td_row[:-1])\n",
        "\n",
        "  return rows"
      ],
      "execution_count": 1,
      "outputs": [
        {
          "output_type": "stream",
          "name": "stdout",
          "text": [
            "Collecting gender_guesser\n",
            "  Downloading gender_guesser-0.4.0-py2.py3-none-any.whl (379 kB)\n",
            "\u001b[?25l\r\u001b[K     |▉                               | 10 kB 21.9 MB/s eta 0:00:01\r\u001b[K     |█▊                              | 20 kB 29.6 MB/s eta 0:00:01\r\u001b[K     |██▋                             | 30 kB 29.2 MB/s eta 0:00:01\r\u001b[K     |███▌                            | 40 kB 18.0 MB/s eta 0:00:01\r\u001b[K     |████▎                           | 51 kB 10.8 MB/s eta 0:00:01\r\u001b[K     |█████▏                          | 61 kB 11.8 MB/s eta 0:00:01\r\u001b[K     |██████                          | 71 kB 13.2 MB/s eta 0:00:01\r\u001b[K     |███████                         | 81 kB 14.7 MB/s eta 0:00:01\r\u001b[K     |███████▊                        | 92 kB 10.8 MB/s eta 0:00:01\r\u001b[K     |████████▋                       | 102 kB 11.4 MB/s eta 0:00:01\r\u001b[K     |█████████▌                      | 112 kB 11.4 MB/s eta 0:00:01\r\u001b[K     |██████████▍                     | 122 kB 11.4 MB/s eta 0:00:01\r\u001b[K     |███████████▎                    | 133 kB 11.4 MB/s eta 0:00:01\r\u001b[K     |████████████                    | 143 kB 11.4 MB/s eta 0:00:01\r\u001b[K     |█████████████                   | 153 kB 11.4 MB/s eta 0:00:01\r\u001b[K     |█████████████▉                  | 163 kB 11.4 MB/s eta 0:00:01\r\u001b[K     |██████████████▊                 | 174 kB 11.4 MB/s eta 0:00:01\r\u001b[K     |███████████████▌                | 184 kB 11.4 MB/s eta 0:00:01\r\u001b[K     |████████████████▍               | 194 kB 11.4 MB/s eta 0:00:01\r\u001b[K     |█████████████████▎              | 204 kB 11.4 MB/s eta 0:00:01\r\u001b[K     |██████████████████▏             | 215 kB 11.4 MB/s eta 0:00:01\r\u001b[K     |███████████████████             | 225 kB 11.4 MB/s eta 0:00:01\r\u001b[K     |███████████████████▉            | 235 kB 11.4 MB/s eta 0:00:01\r\u001b[K     |████████████████████▊           | 245 kB 11.4 MB/s eta 0:00:01\r\u001b[K     |█████████████████████▋          | 256 kB 11.4 MB/s eta 0:00:01\r\u001b[K     |██████████████████████▌         | 266 kB 11.4 MB/s eta 0:00:01\r\u001b[K     |███████████████████████▎        | 276 kB 11.4 MB/s eta 0:00:01\r\u001b[K     |████████████████████████▏       | 286 kB 11.4 MB/s eta 0:00:01\r\u001b[K     |█████████████████████████       | 296 kB 11.4 MB/s eta 0:00:01\r\u001b[K     |██████████████████████████      | 307 kB 11.4 MB/s eta 0:00:01\r\u001b[K     |██████████████████████████▉     | 317 kB 11.4 MB/s eta 0:00:01\r\u001b[K     |███████████████████████████▋    | 327 kB 11.4 MB/s eta 0:00:01\r\u001b[K     |████████████████████████████▌   | 337 kB 11.4 MB/s eta 0:00:01\r\u001b[K     |█████████████████████████████▍  | 348 kB 11.4 MB/s eta 0:00:01\r\u001b[K     |██████████████████████████████▎ | 358 kB 11.4 MB/s eta 0:00:01\r\u001b[K     |███████████████████████████████ | 368 kB 11.4 MB/s eta 0:00:01\r\u001b[K     |████████████████████████████████| 378 kB 11.4 MB/s eta 0:00:01\r\u001b[K     |████████████████████████████████| 379 kB 11.4 MB/s \n",
            "\u001b[?25hInstalling collected packages: gender-guesser\n",
            "Successfully installed gender-guesser-0.4.0\n",
            "Collecting pymysql\n",
            "  Downloading PyMySQL-1.0.2-py3-none-any.whl (43 kB)\n",
            "\u001b[K     |████████████████████████████████| 43 kB 1.3 MB/s \n",
            "\u001b[?25hInstalling collected packages: pymysql\n",
            "Successfully installed pymysql-1.0.2\n"
          ]
        }
      ]
    },
    {
      "cell_type": "markdown",
      "metadata": {
        "id": "dW1EGwP-jvOp"
      },
      "source": [
        "## AWS Login"
      ]
    },
    {
      "cell_type": "code",
      "metadata": {
        "id": "Mv-4qVDNjuXU",
        "colab": {
          "base_uri": "https://localhost:8080/"
        },
        "outputId": "90e89094-f148-40b4-e10c-2d4ef26d3d90"
      },
      "source": [
        "  succeess = False\n",
        "\n",
        "  while not succeess:\n",
        "    password = input(\"Password: \");\n",
        "    try:\n",
        "      conn = pymysql.connect(\n",
        "          host='aws-survivor.cpapv35x7rsh.us-east-2.rds.amazonaws.com',\n",
        "          port=int(3306),\n",
        "          user=\"admin\",\n",
        "          passwd=password,\n",
        "          db=\"survivor_data\",\n",
        "          charset='utf8mb4')\n",
        "      cur = conn.cursor()\n",
        "      succeess = True\n",
        "    except:\n",
        "      print(\"Wrong Password\")\n",
        "  print(\"Connection Made\")"
      ],
      "execution_count": 2,
      "outputs": [
        {
          "output_type": "stream",
          "name": "stdout",
          "text": [
            "Password: Frederickwilliams121234\n",
            "Connection Made\n"
          ]
        }
      ]
    },
    {
      "cell_type": "markdown",
      "metadata": {
        "id": "v0Y1TJsYsmkb"
      },
      "source": [
        "## Adding Players to Players Table"
      ]
    },
    {
      "cell_type": "code",
      "metadata": {
        "id": "YsKRHzLjJ5bX",
        "colab": {
          "base_uri": "https://localhost:8080/"
        },
        "outputId": "80b9c1c2-ff00-4a44-dc50-5d66cc363f4f"
      },
      "source": [
        "url = getSeasonURL(len(SEASONS))\n",
        "rows =getPlayerTableInfoRandom(url)\n",
        "print(rows)\n",
        "\n",
        "for row in rows:\n",
        "  if len(row) !=0:\n",
        "    r_split = row[0].split(\",\")\n",
        "\n",
        "    if len(r_split) == 3:\n",
        "      name_age = r_split[0]\n",
        "      first_name = name_age[:-2].split(\" \", 1)[0]\n",
        "      last_name  = name_age[:-2].split(\" \", 1)[1]\n",
        "      age = name_age[-2:]\n",
        "      gen = getGender(first_name)\n",
        "      state = r_split[-1].strip(\"\\n\")[1:]\n",
        "\n",
        "      print(first_name, last_name, age, gen, state)\n",
        "\n",
        "      try:\n",
        "        query = \"INSERT INTO `survivor_data`.`Players` (`first_name`, `last_name`, `sex`, `state`) VALUES (\"+addQuotes(first_name)+\",\"+addQuotes(last_name)+\",\"+addQuotes(gen)+\",\"+addQuotes(STATES[state])+\");\"\n",
        "        print(query)\n",
        "        executeQuery(query)\n",
        "      except:\n",
        "        print(\"Error\")\n",
        "\n",
        "commitQuery()"
      ],
      "execution_count": 12,
      "outputs": [
        {
          "output_type": "stream",
          "name": "stdout",
          "text": [
            "[['Virgilio \"Billy\" Garcia36, New York City, New York\\n', 'Aitutaki\\n', '\\n', '\\n', '\\n'], ['Jenny Guzon-Bae36, Lake Forest, Illinois\\n', 'Puka Puka\\n', 'Rarotonga\\n', 'Rarotonga\\n', '\\n'], ['Cristina Coria35, Santa Monica, California\\n', 'Aitutaki\\n', 'Rarotonga\\n', '\\n', '\\n'], ['Adam Gentry27, San Diego, California\\n', 'Rarotonga\\n', 'Rarotonga\\n', 'Rarotonga\\n'], ['Brad Virata29, Santa Monica, California\\n', 'Puka Puka\\n', 'Rarotonga\\n', 'Rarotonga\\n', '\\n'], [], ['Sekou Bunch45, Los Angeles, California\\n', 'Manihiki\\n', '\\n', '\\n', '\\n'], ['Rebecca Borman34, Laurelton, New York\\n', 'Manihiki\\n', 'Rarotonga\\n', 'Rarotonga\\n', '\\n'], ['Stephannie Favor35, Columbia, South Carolina\\n', 'Manihiki\\n', 'Rarotonga\\n', '\\n', '\\n'], ['Anh-Tuan \"Cao Boi\" Bui42, Christiansburg, Virginia\\n', 'Puka Puka\\n', 'Aitutaki\\n', '\\n', '\\n'], ['Oscar \"Ozzy\" Lusth24, Venice, California\\n', 'Aitutaki\\n', 'Aitutaki\\n', 'Aitutaki\\n'], ['Jessica Smith27, Chico, California\\n', 'Rarotonga\\n', 'Aitutaki\\n', '\\n', '\\n'], ['John \"J.P.\" Calderon30, Long Beach, California\\n', 'Aitutaki\\n', 'Rarotonga\\n', '\\n', '\\n'], ['Rebekah \"Becky\" Lee28, Washington, D.C.\\n', 'Puka Puka\\n', 'Aitutaki\\n', 'Aitutaki\\n'], ['Cecilia Mansilla29, Oakland, California\\n', 'Aitutaki\\n', 'Aitutaki\\n', '\\n', '\\n'], ['Nathan \"Nate\" Gonzalez26, Playa del Rey, California\\n', 'Manihiki\\n', 'Rarotonga\\n', 'Rarotonga\\n', 'Aitutonga\\n'], ['Sundra Oakley31, Los Angeles, California\\n', 'Manihiki\\n', 'Aitutaki\\n', 'Aitutaki\\n'], ['Yul Kwon31, San Mateo, California\\n', 'Puka Puka\\n', 'Aitutaki\\n', 'Aitutaki\\n'], ['Jonathan Penner44, Los Angeles, California\\n', 'Rarotonga\\n', 'Aitutaki\\n', 'Rarotonga\\n'], ['Parvati Shallow23, West Hollywood, California\\n', 'Rarotonga\\n', 'Rarotonga\\n', 'Rarotonga\\n'], ['Candice Woodcock23, Washington, D.C.\\n', 'Rarotonga\\n', 'Aitutaki\\n', 'Rarotonga\\n']]\n",
            "Virgilio \"Billy\" Garcia 36 M New York\n",
            "INSERT INTO `survivor_data`.`Players` (`first_name`, `last_name`, `sex`, `state`) VALUES ( 'Virgilio' , '\"Billy\" Garcia' , 'M' , 'NY' );\n",
            "Jenny Guzon-Bae 36 F Illinois\n",
            "INSERT INTO `survivor_data`.`Players` (`first_name`, `last_name`, `sex`, `state`) VALUES ( 'Jenny' , 'Guzon-Bae' , 'F' , 'IL' );\n",
            "Cristina Coria 35 F California\n",
            "INSERT INTO `survivor_data`.`Players` (`first_name`, `last_name`, `sex`, `state`) VALUES ( 'Cristina' , 'Coria' , 'F' , 'CA' );\n",
            "Adam Gentry 27 M California\n",
            "INSERT INTO `survivor_data`.`Players` (`first_name`, `last_name`, `sex`, `state`) VALUES ( 'Adam' , 'Gentry' , 'M' , 'CA' );\n",
            "Brad Virata 29 M California\n",
            "INSERT INTO `survivor_data`.`Players` (`first_name`, `last_name`, `sex`, `state`) VALUES ( 'Brad' , 'Virata' , 'M' , 'CA' );\n",
            "Sekou Bunch 45 F California\n",
            "INSERT INTO `survivor_data`.`Players` (`first_name`, `last_name`, `sex`, `state`) VALUES ( 'Sekou' , 'Bunch' , 'F' , 'CA' );\n",
            "Rebecca Borman 34 F New York\n",
            "INSERT INTO `survivor_data`.`Players` (`first_name`, `last_name`, `sex`, `state`) VALUES ( 'Rebecca' , 'Borman' , 'F' , 'NY' );\n",
            "Stephannie Favor 35 F South Carolina\n",
            "INSERT INTO `survivor_data`.`Players` (`first_name`, `last_name`, `sex`, `state`) VALUES ( 'Stephannie' , 'Favor' , 'F' , 'SC' );\n",
            "Anh-Tuan \"Cao Boi\" Bui 42 F Virginia\n",
            "INSERT INTO `survivor_data`.`Players` (`first_name`, `last_name`, `sex`, `state`) VALUES ( 'Anh-Tuan' , '\"Cao Boi\" Bui' , 'F' , 'VA' );\n",
            "Oscar \"Ozzy\" Lusth 24 M California\n",
            "INSERT INTO `survivor_data`.`Players` (`first_name`, `last_name`, `sex`, `state`) VALUES ( 'Oscar' , '\"Ozzy\" Lusth' , 'M' , 'CA' );\n",
            "Jessica Smith 27 F California\n",
            "INSERT INTO `survivor_data`.`Players` (`first_name`, `last_name`, `sex`, `state`) VALUES ( 'Jessica' , 'Smith' , 'F' , 'CA' );\n",
            "John \"J.P.\" Calderon 30 M California\n",
            "INSERT INTO `survivor_data`.`Players` (`first_name`, `last_name`, `sex`, `state`) VALUES ( 'John' , '\"J.P.\" Calderon' , 'M' , 'CA' );\n",
            "Rebekah \"Becky\" Lee 28 F D.C.\n",
            "INSERT INTO `survivor_data`.`Players` (`first_name`, `last_name`, `sex`, `state`) VALUES ( 'Rebekah' , '\"Becky\" Lee' , 'F' , 'DC' );\n",
            "Cecilia Mansilla 29 F California\n",
            "INSERT INTO `survivor_data`.`Players` (`first_name`, `last_name`, `sex`, `state`) VALUES ( 'Cecilia' , 'Mansilla' , 'F' , 'CA' );\n",
            "Nathan \"Nate\" Gonzalez 26 M California\n",
            "INSERT INTO `survivor_data`.`Players` (`first_name`, `last_name`, `sex`, `state`) VALUES ( 'Nathan' , '\"Nate\" Gonzalez' , 'M' , 'CA' );\n",
            "Sundra Oakley 31 F California\n",
            "INSERT INTO `survivor_data`.`Players` (`first_name`, `last_name`, `sex`, `state`) VALUES ( 'Sundra' , 'Oakley' , 'F' , 'CA' );\n",
            "Yul Kwon 31 F California\n",
            "INSERT INTO `survivor_data`.`Players` (`first_name`, `last_name`, `sex`, `state`) VALUES ( 'Yul' , 'Kwon' , 'F' , 'CA' );\n",
            "Jonathan Penner 44 M California\n",
            "INSERT INTO `survivor_data`.`Players` (`first_name`, `last_name`, `sex`, `state`) VALUES ( 'Jonathan' , 'Penner' , 'M' , 'CA' );\n",
            "Parvati Shallow 23 F California\n",
            "INSERT INTO `survivor_data`.`Players` (`first_name`, `last_name`, `sex`, `state`) VALUES ( 'Parvati' , 'Shallow' , 'F' , 'CA' );\n",
            "Candice Woodcock 23 F D.C.\n",
            "INSERT INTO `survivor_data`.`Players` (`first_name`, `last_name`, `sex`, `state`) VALUES ( 'Candice' , 'Woodcock' , 'F' , 'DC' );\n"
          ]
        }
      ]
    },
    {
      "cell_type": "markdown",
      "metadata": {
        "id": "BvmYrBKF0jXA"
      },
      "source": [
        "## Add Players to Seasons Table"
      ]
    },
    {
      "cell_type": "code",
      "metadata": {
        "id": "JBZ0yAF60rhn",
        "colab": {
          "base_uri": "https://localhost:8080/"
        },
        "outputId": "c9b1c1e8-9221-44dc-d6a4-3da2c65d3e7a"
      },
      "source": [
        "season = len(SEASONS)\n",
        "url = getSeasonURL(season)\n",
        "rows =getPlayerTableInfoRandom(url)\n",
        "print(rows)\n",
        "\n",
        "for row in rows:\n",
        "  if len(row) !=0:\n",
        "    r_split = row[0].split(\",\")\n",
        "\n",
        "    if len(r_split) == 3:\n",
        "      name_age = r_split[0]\n",
        "      first_name = name_age[:-2].split(\" \", 1)[0]\n",
        "      last_name  = name_age[:-2].split(\" \", 1)[1]\n",
        "      age = name_age[-2:]\n",
        "\n",
        "\n",
        "      try:\n",
        "        survivor_id = getSurvivorId(first_name, last_name)\n",
        "        query = \"INSERT INTO `survivor_data`.`Seasons` (season_id, survivor_id, age)\"+\" VALUES('\"+str(season)+\"','\"+str(survivor_id)+\"','\"+str(age)+\"');\"\n",
        "        \n",
        "        print(query)\n",
        "        #executeQuery(query)\n",
        "      except:\n",
        "        print(first_name, last_name, age)\n",
        "\n",
        "#commitQuery()"
      ],
      "execution_count": 14,
      "outputs": [
        {
          "output_type": "stream",
          "name": "stdout",
          "text": [
            "[['Rebecca Borman34, Laurelton, New York\\n', 'Manihiki\\n', 'Rarotonga\\n', 'Rarotonga\\n', '\\n'], ['Brad Virata29, Santa Monica, California\\n', 'Puka Puka\\n', 'Rarotonga\\n', 'Rarotonga\\n', '\\n'], ['Jonathan Penner44, Los Angeles, California\\n', 'Rarotonga\\n', 'Aitutaki\\n', 'Rarotonga\\n'], ['Candice Woodcock23, Washington, D.C.\\n', 'Rarotonga\\n', 'Aitutaki\\n', 'Rarotonga\\n'], ['Yul Kwon31, San Mateo, California\\n', 'Puka Puka\\n', 'Aitutaki\\n', 'Aitutaki\\n'], ['Cecilia Mansilla29, Oakland, California\\n', 'Aitutaki\\n', 'Aitutaki\\n', '\\n', '\\n'], ['Virgilio \"Billy\" Garcia36, New York City, New York\\n', 'Aitutaki\\n', '\\n', '\\n', '\\n'], ['Adam Gentry27, San Diego, California\\n', 'Rarotonga\\n', 'Rarotonga\\n', 'Rarotonga\\n'], ['Stephannie Favor35, Columbia, South Carolina\\n', 'Manihiki\\n', 'Rarotonga\\n', '\\n', '\\n'], ['John \"J.P.\" Calderon30, Long Beach, California\\n', 'Aitutaki\\n', 'Rarotonga\\n', '\\n', '\\n'], ['Sundra Oakley31, Los Angeles, California\\n', 'Manihiki\\n', 'Aitutaki\\n', 'Aitutaki\\n'], [], ['Anh-Tuan \"Cao Boi\" Bui42, Christiansburg, Virginia\\n', 'Puka Puka\\n', 'Aitutaki\\n', '\\n', '\\n'], ['Rebekah \"Becky\" Lee28, Washington, D.C.\\n', 'Puka Puka\\n', 'Aitutaki\\n', 'Aitutaki\\n'], ['Jessica Smith27, Chico, California\\n', 'Rarotonga\\n', 'Aitutaki\\n', '\\n', '\\n'], ['Cristina Coria35, Santa Monica, California\\n', 'Aitutaki\\n', 'Rarotonga\\n', '\\n', '\\n'], ['Parvati Shallow23, West Hollywood, California\\n', 'Rarotonga\\n', 'Rarotonga\\n', 'Rarotonga\\n'], ['Oscar \"Ozzy\" Lusth24, Venice, California\\n', 'Aitutaki\\n', 'Aitutaki\\n', 'Aitutaki\\n'], ['Jenny Guzon-Bae36, Lake Forest, Illinois\\n', 'Puka Puka\\n', 'Rarotonga\\n', 'Rarotonga\\n', '\\n'], ['Sekou Bunch45, Los Angeles, California\\n', 'Manihiki\\n', '\\n', '\\n', '\\n'], ['Nathan \"Nate\" Gonzalez26, Playa del Rey, California\\n', 'Manihiki\\n', 'Rarotonga\\n', 'Rarotonga\\n', 'Aitutonga\\n']]\n",
            "INSERT INTO `survivor_data`.`Seasons` (season_id, survivor_id, age) VALUES('13','244','34');\n",
            "INSERT INTO `survivor_data`.`Seasons` (season_id, survivor_id, age) VALUES('13','242','29');\n",
            "INSERT INTO `survivor_data`.`Seasons` (season_id, survivor_id, age) VALUES('13','255','44');\n",
            "INSERT INTO `survivor_data`.`Seasons` (season_id, survivor_id, age) VALUES('13','257','23');\n",
            "INSERT INTO `survivor_data`.`Seasons` (season_id, survivor_id, age) VALUES('13','254','31');\n",
            "INSERT INTO `survivor_data`.`Seasons` (season_id, survivor_id, age) VALUES('13','251','29');\n",
            "INSERT INTO `survivor_data`.`Seasons` (season_id, survivor_id, age) VALUES('13','238','36');\n",
            "INSERT INTO `survivor_data`.`Seasons` (season_id, survivor_id, age) VALUES('13','241','27');\n",
            "INSERT INTO `survivor_data`.`Seasons` (season_id, survivor_id, age) VALUES('13','245','35');\n",
            "INSERT INTO `survivor_data`.`Seasons` (season_id, survivor_id, age) VALUES('13','249','30');\n",
            "INSERT INTO `survivor_data`.`Seasons` (season_id, survivor_id, age) VALUES('13','253','31');\n",
            "INSERT INTO `survivor_data`.`Seasons` (season_id, survivor_id, age) VALUES('13','246','42');\n",
            "INSERT INTO `survivor_data`.`Seasons` (season_id, survivor_id, age) VALUES('13','250','28');\n",
            "INSERT INTO `survivor_data`.`Seasons` (season_id, survivor_id, age) VALUES('13','248','27');\n",
            "INSERT INTO `survivor_data`.`Seasons` (season_id, survivor_id, age) VALUES('13','240','35');\n",
            "INSERT INTO `survivor_data`.`Seasons` (season_id, survivor_id, age) VALUES('13','256','23');\n",
            "INSERT INTO `survivor_data`.`Seasons` (season_id, survivor_id, age) VALUES('13','247','24');\n",
            "INSERT INTO `survivor_data`.`Seasons` (season_id, survivor_id, age) VALUES('13','239','36');\n",
            "INSERT INTO `survivor_data`.`Seasons` (season_id, survivor_id, age) VALUES('13','243','45');\n",
            "INSERT INTO `survivor_data`.`Seasons` (season_id, survivor_id, age) VALUES('13','252','26');\n"
          ]
        }
      ]
    },
    {
      "cell_type": "markdown",
      "metadata": {
        "id": "feuANwuIehxQ"
      },
      "source": [
        "## Add Votes for in Season Table"
      ]
    },
    {
      "cell_type": "code",
      "metadata": {
        "id": "jG3SQe1Tef5v",
        "colab": {
          "base_uri": "https://localhost:8080/"
        },
        "outputId": "720d40f2-7978-4fb5-8d06-4b686701b68f"
      },
      "source": [
        "a = [ ['Terry', 'Deitz'], ['Bruce', 'Kanegai'], ['Danielle', 'DiLorenzo']]\n",
        "v = [ ['Cirie', 'Fields'], ['Dan', 'Barry'], ['Courtney', 'Marit'] ]\n",
        "season = 12\n",
        "\n",
        "\n",
        "for player in a:\n",
        "  survivor_id = getSurvivorId(first_name=player[0], last_name=player[1])\n",
        "  query = \"UPDATE `survivor_data`.`Seasons` SET `vote_adam` = 1 WHERE `season_id` ='\"+str(season)+\"' and survivor_id ='\"+survivor_id+\"';\"\n",
        "  #executeQuery(query)\n",
        "  print(query)\n",
        "\n",
        "for player in v:\n",
        "  survivor_id = getSurvivorId(first_name=player[0], last_name=player[1])\n",
        "  query = \"UPDATE `survivor_data`.`Seasons` SET `vote_victoria` = 1 WHERE `season_id` ='\"+str(season)+\"' and survivor_id ='\"+survivor_id+\"';\"\n",
        "  #executeQuery(query)\n",
        "  print(query)\n",
        "\n",
        "#commitQuery()"
      ],
      "execution_count": null,
      "outputs": [
        {
          "output_type": "stream",
          "name": "stdout",
          "text": [
            "UPDATE `survivor_data`.`Seasons` SET `vote_adam` = 1 WHERE `season_id` ='12' and survivor_id ='208';\n",
            "UPDATE `survivor_data`.`Seasons` SET `vote_adam` = 1 WHERE `season_id` ='12' and survivor_id ='220';\n",
            "UPDATE `survivor_data`.`Seasons` SET `vote_adam` = 1 WHERE `season_id` ='12' and survivor_id ='221';\n",
            "UPDATE `survivor_data`.`Seasons` SET `vote_victoria` = 1 WHERE `season_id` ='12' and survivor_id ='214';\n",
            "UPDATE `survivor_data`.`Seasons` SET `vote_victoria` = 1 WHERE `season_id` ='12' and survivor_id ='207';\n",
            "UPDATE `survivor_data`.`Seasons` SET `vote_victoria` = 1 WHERE `season_id` ='12' and survivor_id ='209';\n"
          ]
        }
      ]
    },
    {
      "cell_type": "markdown",
      "metadata": {
        "id": "azJ-NNF4CEZz"
      },
      "source": [
        "## Set Players Place in the Season"
      ]
    },
    {
      "cell_type": "code",
      "metadata": {
        "id": "ClhUl5muChH0",
        "colab": {
          "base_uri": "https://localhost:8080/"
        },
        "outputId": "28464fb8-aea0-4dbf-c52e-6679a6c40743"
      },
      "source": [
        "season = len(SEASONS)\n",
        "url = getSeasonURL(season)\n",
        "rows =getPlayerTableInfo(url)\n",
        "rows = rows[1:]\n",
        "place = len(rows)\n",
        "\n",
        "print(rows)\n",
        "\n",
        "for row in rows:\n",
        "  if len(row) !=0:\n",
        "    r_split = row[0].split(\",\")\n",
        "\n",
        "    if len(r_split) == 3:\n",
        "      name_age = r_split[0]\n",
        "      first_name = name_age[:-2].split(\" \", 1)[0].strip(\" \")\n",
        "      last_name  = name_age[:-2].split(\" \", 1)[1].strip(\" \").strip(\"'\")\n",
        "\n",
        "      try:\n",
        "        print(first_name)\n",
        "        survivor_id = getSurvivorId(first_name, last_name)\n",
        "        query = \"UPDATE `survivor_data`.`Seasons` SET place =\"+ str(place) +\" WHERE `season_id` ='\"+str(season)+\"'and `survivor_id` ='\"+survivor_id+\"';\"\n",
        "        print(query)\n",
        "        executeQuery(query)\n",
        "\n",
        "      except:\n",
        "        print(\"Error: \", first_name, last_name) \n",
        "        \n",
        "  place -= 1   \n",
        "\n",
        "commitQuery()"
      ],
      "execution_count": 16,
      "outputs": [
        {
          "output_type": "stream",
          "name": "stdout",
          "text": [
            "[['Sekou Bunch45, Los Angeles, California\\n', 'Manihiki\\n', '\\n', '\\n', '\\n'], ['Virgilio \"Billy\" Garcia36, New York City, New York\\n', 'Aitutaki\\n', '\\n', '\\n', '\\n'], ['Cecilia Mansilla29, Oakland, California\\n', 'Aitutaki\\n', 'Aitutaki\\n', '\\n', '\\n'], ['John \"J.P.\" Calderon30, Long Beach, California\\n', 'Aitutaki\\n', 'Rarotonga\\n', '\\n', '\\n'], ['Stephannie Favor35, Columbia, South Carolina\\n', 'Manihiki\\n', 'Rarotonga\\n', '\\n', '\\n'], ['Anh-Tuan \"Cao Boi\" Bui42, Christiansburg, Virginia\\n', 'Puka Puka\\n', 'Aitutaki\\n', '\\n', '\\n'], ['Cristina Coria35, Santa Monica, California\\n', 'Aitutaki\\n', 'Rarotonga\\n', '\\n', '\\n'], ['Jessica Smith27, Chico, California\\n', 'Rarotonga\\n', 'Aitutaki\\n', '\\n', '\\n'], ['Brad Virata29, Santa Monica, California\\n', 'Puka Puka\\n', 'Rarotonga\\n', 'Rarotonga\\n', '\\n'], ['Rebecca Borman34, Laurelton, New York\\n', 'Manihiki\\n', 'Rarotonga\\n', 'Rarotonga\\n', '\\n'], ['Jenny Guzon-Bae36, Lake Forest, Illinois\\n', 'Puka Puka\\n', 'Rarotonga\\n', 'Rarotonga\\n', '\\n'], ['Nathan \"Nate\" Gonzalez26, Playa del Rey, California\\n', 'Manihiki\\n', 'Rarotonga\\n', 'Rarotonga\\n', 'Aitutonga\\n'], ['Candice Woodcock23, Washington, D.C.\\n', 'Rarotonga\\n', 'Aitutaki\\n', 'Rarotonga\\n'], ['Jonathan Penner44, Los Angeles, California\\n', 'Rarotonga\\n', 'Aitutaki\\n', 'Rarotonga\\n'], ['Parvati Shallow23, West Hollywood, California\\n', 'Rarotonga\\n', 'Rarotonga\\n', 'Rarotonga\\n'], ['Adam Gentry27, San Diego, California\\n', 'Rarotonga\\n', 'Rarotonga\\n', 'Rarotonga\\n'], ['Sundra Oakley31, Los Angeles, California\\n', 'Manihiki\\n', 'Aitutaki\\n', 'Aitutaki\\n'], ['Rebekah \"Becky\" Lee28, Washington, D.C.\\n', 'Puka Puka\\n', 'Aitutaki\\n', 'Aitutaki\\n'], ['Oscar \"Ozzy\" Lusth24, Venice, California\\n', 'Aitutaki\\n', 'Aitutaki\\n', 'Aitutaki\\n'], ['Yul Kwon31, San Mateo, California\\n', 'Puka Puka\\n', 'Aitutaki\\n', 'Aitutaki\\n']]\n",
            "Sekou\n",
            "UPDATE `survivor_data`.`Seasons` SET place =20 WHERE `season_id` ='13'and `survivor_id` ='243';\n",
            "Virgilio\n",
            "UPDATE `survivor_data`.`Seasons` SET place =19 WHERE `season_id` ='13'and `survivor_id` ='238';\n",
            "Cecilia\n",
            "UPDATE `survivor_data`.`Seasons` SET place =18 WHERE `season_id` ='13'and `survivor_id` ='251';\n",
            "John\n",
            "UPDATE `survivor_data`.`Seasons` SET place =17 WHERE `season_id` ='13'and `survivor_id` ='249';\n",
            "Stephannie\n",
            "UPDATE `survivor_data`.`Seasons` SET place =16 WHERE `season_id` ='13'and `survivor_id` ='245';\n",
            "Anh-Tuan\n",
            "UPDATE `survivor_data`.`Seasons` SET place =15 WHERE `season_id` ='13'and `survivor_id` ='246';\n",
            "Cristina\n",
            "UPDATE `survivor_data`.`Seasons` SET place =14 WHERE `season_id` ='13'and `survivor_id` ='240';\n",
            "Jessica\n",
            "UPDATE `survivor_data`.`Seasons` SET place =13 WHERE `season_id` ='13'and `survivor_id` ='248';\n",
            "Brad\n",
            "UPDATE `survivor_data`.`Seasons` SET place =12 WHERE `season_id` ='13'and `survivor_id` ='242';\n",
            "Rebecca\n",
            "UPDATE `survivor_data`.`Seasons` SET place =11 WHERE `season_id` ='13'and `survivor_id` ='244';\n",
            "Jenny\n",
            "UPDATE `survivor_data`.`Seasons` SET place =10 WHERE `season_id` ='13'and `survivor_id` ='239';\n",
            "Nathan\n",
            "UPDATE `survivor_data`.`Seasons` SET place =9 WHERE `season_id` ='13'and `survivor_id` ='252';\n",
            "Candice\n",
            "UPDATE `survivor_data`.`Seasons` SET place =8 WHERE `season_id` ='13'and `survivor_id` ='257';\n",
            "Jonathan\n",
            "UPDATE `survivor_data`.`Seasons` SET place =7 WHERE `season_id` ='13'and `survivor_id` ='255';\n",
            "Parvati\n",
            "UPDATE `survivor_data`.`Seasons` SET place =6 WHERE `season_id` ='13'and `survivor_id` ='256';\n",
            "Adam\n",
            "UPDATE `survivor_data`.`Seasons` SET place =5 WHERE `season_id` ='13'and `survivor_id` ='241';\n",
            "Sundra\n",
            "UPDATE `survivor_data`.`Seasons` SET place =4 WHERE `season_id` ='13'and `survivor_id` ='253';\n",
            "Rebekah\n",
            "UPDATE `survivor_data`.`Seasons` SET place =3 WHERE `season_id` ='13'and `survivor_id` ='250';\n",
            "Oscar\n",
            "UPDATE `survivor_data`.`Seasons` SET place =2 WHERE `season_id` ='13'and `survivor_id` ='247';\n",
            "Yul\n",
            "UPDATE `survivor_data`.`Seasons` SET place =1 WHERE `season_id` ='13'and `survivor_id` ='254';\n"
          ]
        }
      ]
    },
    {
      "cell_type": "markdown",
      "metadata": {
        "id": "ih9fv521hznP"
      },
      "source": [
        "## Getting Challenge Winners"
      ]
    },
    {
      "cell_type": "code",
      "metadata": {
        "id": "-1lf6u9Ah2c_"
      },
      "source": [
        "response = requests.get(getSeasonURL(7))\n",
        "soup = BeautifulSoup(response.text, 'html.parser')\n",
        "table = soup.find_all('table', {'class': 'wikitable'})[1]\n",
        "table_rows = table.find_all('tr')\n",
        "\n",
        "rows = []\n",
        "for tr in table_rows:\n",
        "    td = tr.find_all('td')\n",
        "    td_row = [i.text for i in td]\n",
        "    if len(td_row) != 0:\n",
        "      rows.append(td_row)\n",
        "\n",
        "print(rows)\n",
        "\n",
        "count = 0\n",
        "\n",
        "for epi in rows:\n",
        "  if count >= 8:\n",
        "    reward = 'N/A'\n",
        "    immunity = 'N/A'\n",
        "\n",
        "    print(epi)\n",
        "\n",
        "    if epi[-1].strip(\"\\n\") != 'Runner-up' or epi[-1].strip(\"\\n\") != 'Sole Survivor':\n",
        "      if epi[-1][:2] == '13' or epi[-1][:2] == '14':\n",
        "        immunity = epi[-3].strip(\"\\n\")\n",
        "      elif len(epi) >= 4:\n",
        "        reward = epi[-4].strip(\"\\n\")\n",
        "        immunity = epi[-3].strip(\"\\n\")\n",
        "    \n",
        "    print(reward, immunity)\n",
        "  count +=1"
      ],
      "execution_count": null,
      "outputs": []
    },
    {
      "cell_type": "code",
      "metadata": {
        "id": "VZqK-xHhh0c-"
      },
      "source": [
        ""
      ],
      "execution_count": null,
      "outputs": []
    },
    {
      "cell_type": "markdown",
      "metadata": {
        "id": "A7Hpygp-h0H2"
      },
      "source": [
        ""
      ]
    }
  ]
}