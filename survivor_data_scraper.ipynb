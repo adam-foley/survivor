{
  "nbformat": 4,
  "nbformat_minor": 0,
  "metadata": {
    "colab": {
      "name": "survivor_data_scraper.ipynb",
      "provenance": [],
      "collapsed_sections": [
        "v0Y1TJsYsmkb",
        "BvmYrBKF0jXA",
        "ih9fv521hznP",
        "4MKRZdVzssit"
      ]
    },
    "kernelspec": {
      "name": "python3",
      "display_name": "Python 3"
    },
    "language_info": {
      "name": "python"
    }
  },
  "cells": [
    {
      "cell_type": "markdown",
      "metadata": {
        "id": "lUpgzSeWinDd"
      },
      "source": [
        "#Surivor - Outwit, Outplay, Outlast"
      ]
    },
    {
      "cell_type": "markdown",
      "metadata": {
        "id": "GHtCQs8l-Kuo"
      },
      "source": [
        "## Imports and functions"
      ]
    },
    {
      "cell_type": "code",
      "metadata": {
        "colab": {
          "base_uri": "https://localhost:8080/"
        },
        "id": "RGFiIXrJSX8a",
        "outputId": "0a7c5830-8c1c-4cc7-eee2-bdd597665275"
      },
      "source": [
        "%pip install gender_guesser\n",
        "%pip install pymysql\n",
        "\n",
        "from bs4 import BeautifulSoup\n",
        "\n",
        "import requests\n",
        "import urllib.request\n",
        "import time\n",
        "import random\n",
        "import requests\n",
        "import random\n",
        "import os\n",
        "import pymysql\n",
        "import time\n",
        "import gender_guesser.detector as gender\n",
        "import pandas as pd\n",
        "import numpy as np\n",
        "\n",
        "STATES = {'Alabama': 'AL', 'Alaska': 'AK', 'Arizona': 'AZ', 'Arkansas': 'AR', 'California': 'CA', 'Colorado': 'CO', 'Connecticut': 'CT', 'Delaware': 'DE', 'D.C.': 'DC', 'Florida': 'FL', \n",
        "          'Georgia': 'GA', 'Hawaii': 'HI', 'Idaho': 'ID', 'Illinois': 'IL', 'Indiana': 'IN', 'Iowa': 'IA', 'Kansas': 'KS', 'Kentucky': 'KY', 'Louisiana': 'LA', 'Maine': 'ME', \n",
        "          'Maryland': 'MD', 'Massachusetts': 'MA', 'Michigan': 'MI', 'Minnesota': 'MN', 'Mississippi': 'MS', 'Missouri': 'MO', 'Montana': 'MT', 'Nebraska': 'NE', \n",
        "          'Nevada': 'NV', 'New Hampshire': 'NH', 'New Jersey': 'NJ', 'New Mexico': 'NM', 'New York': 'NY', 'North Carolina': 'NC', 'North Dakota': 'ND', 'Ohio': 'OH', \n",
        "          'Oklahoma': 'OK', 'Oregon': 'OR', 'Pennsylvania': 'PA', 'Rhode Island': 'RI', 'South Carolina': 'SC', 'South Dakota': 'SD', 'Tennessee': 'TN', 'Texas': 'TX', \n",
        "          'Utah': 'UT', 'Vermont': 'VT', 'Virginia': 'VA', 'Washington': 'WA.', 'West Virginia': 'WV', 'Wisconsin': 'WI', 'Wyoming': 'WY'}\n",
        "\n",
        "\n",
        "SEASONS = ['Borneo', 'The_Australian_Outback', 'Africa', 'Marquesas', 'Thailand', 'The_Amazon', 'Pearl_Islands', 'All-Stars', 'Vanuatu', 'Palau', 'Guatemala','Panama'] \n",
        "\n",
        "def getSeasonURL(season_num):\n",
        "  wiki_url = 'https://en.wikipedia.org/wiki/Survivor:_'\n",
        "  return wiki_url + SEASONS[ season_num - 1 ]\n",
        "\n",
        "def getSurvivorId(first_name, last_name):\n",
        "  first_name = \"'\"+first_name+\"'\"\n",
        "  last_name = \"'\"+last_name.strip(\" \")+\"'\"\n",
        "  query = \"Select survivor_id from survivor_data.Players where first_name =\"+first_name+\" and last_name=\"+last_name+\";\"\n",
        "  cur.execute(query)\n",
        "  id = cur.fetchone()[0]\n",
        "  return str(id)\n",
        "\n",
        "def executeQuery(query):\n",
        "  cur.execute(query)\n",
        "\n",
        "def commitQuery():\n",
        "  conn.commit()\n",
        "\n",
        "def findStateInString(s):\n",
        "  word = ''\n",
        "  for char in s:\n",
        "    if word in states:\n",
        "      return word\n",
        "    else:\n",
        "      word += char\n",
        "\n",
        "def addQuotes(s):\n",
        "  return \" '\"+s+\"' \"\n",
        "\n",
        "def getGender(name):\n",
        "  d = gender.Detector()\n",
        "  g = d.get_gender(name).split(\"_\")\n",
        "\n",
        "  if len(g) == 2:\n",
        "    gn = g[-1]\n",
        "  else:\n",
        "    gn = g[0]\n",
        "    \n",
        "  if gn == \"male\":\n",
        "    return 'M'\n",
        "  else:\n",
        "    return 'F'\n",
        "\n",
        "def getPlayerTableInfoRandom(url):\n",
        "  response = requests.get(url)\n",
        "  soup = BeautifulSoup(response.text, 'html.parser')\n",
        "  table = soup.find_all('table', {'class': 'wikitable'})[0]\n",
        "  table_rows = table.find_all('tr')\n",
        "\n",
        "  rows = []\n",
        "  for tr in table_rows:\n",
        "      td = tr.find_all('td')\n",
        "      td_row = [i.text for i in td]\n",
        "      rows.append(td_row[:-1])\n",
        "      random.shuffle(rows)\n",
        "\n",
        "  return rows\n",
        "\n",
        "def getPlayerTableInfo(url):\n",
        "  response = requests.get(url)\n",
        "  soup = BeautifulSoup(response.text, 'html.parser')\n",
        "  table = soup.find_all('table', {'class': 'wikitable'})[0]\n",
        "  table_rows = table.find_all('tr')\n",
        "\n",
        "  rows = []\n",
        "  for tr in table_rows:\n",
        "      td = tr.find_all('td')\n",
        "      td_row = [i.text for i in td]\n",
        "      rows.append(td_row[:-1])\n",
        "\n",
        "  return rows"
      ],
      "execution_count": 1,
      "outputs": [
        {
          "output_type": "stream",
          "name": "stdout",
          "text": [
            "Collecting gender_guesser\n",
            "  Downloading gender_guesser-0.4.0-py2.py3-none-any.whl (379 kB)\n",
            "\u001b[K     |████████████████████████████████| 379 kB 5.2 MB/s \n",
            "\u001b[?25hInstalling collected packages: gender-guesser\n",
            "Successfully installed gender-guesser-0.4.0\n",
            "Collecting pymysql\n",
            "  Downloading PyMySQL-1.0.2-py3-none-any.whl (43 kB)\n",
            "\u001b[K     |████████████████████████████████| 43 kB 1.1 MB/s \n",
            "\u001b[?25hInstalling collected packages: pymysql\n",
            "Successfully installed pymysql-1.0.2\n"
          ]
        }
      ]
    },
    {
      "cell_type": "markdown",
      "metadata": {
        "id": "dW1EGwP-jvOp"
      },
      "source": [
        "## AWS Login"
      ]
    },
    {
      "cell_type": "code",
      "metadata": {
        "id": "Mv-4qVDNjuXU"
      },
      "source": [
        "  succeess = False\n",
        "\n",
        "  while not succeess:\n",
        "    password = input(\"Password: \");\n",
        "    try:\n",
        "      conn = pymysql.connect(\n",
        "          host='aws-survivor.cpapv35x7rsh.us-east-2.rds.amazonaws.com',\n",
        "          port=int(3306),\n",
        "          user=\"admin\",\n",
        "          passwd=password,\n",
        "          db=\"survivor_data\",\n",
        "          charset='utf8mb4')\n",
        "      cur = conn.cursor()\n",
        "      succeess = True\n",
        "    except:\n",
        "      print(\"Wrong Password\")\n",
        "  print(\"Connection Made\")"
      ],
      "execution_count": null,
      "outputs": []
    },
    {
      "cell_type": "markdown",
      "metadata": {
        "id": "v0Y1TJsYsmkb"
      },
      "source": [
        "## Adding Players to Players Table"
      ]
    },
    {
      "cell_type": "code",
      "metadata": {
        "colab": {
          "base_uri": "https://localhost:8080/"
        },
        "id": "YsKRHzLjJ5bX",
        "outputId": "5fbee0eb-7aa4-4010-af39-47422e5e8546"
      },
      "source": [
        "url = getSeasonURL(10)\n",
        "rows =getPlayerTableInfoRandom(url)\n",
        "print(rows)\n",
        "\n",
        "for row in rows:\n",
        "  if len(row) !=0:\n",
        "    r_split = row[0].split(\",\")\n",
        "\n",
        "    if len(r_split) == 3:\n",
        "      name_age = r_split[0]\n",
        "      first_name = name_age[:-2].split(\" \", 1)[0]\n",
        "      last_name  = name_age[:-2].split(\" \", 1)[1]\n",
        "      age = name_age[-2:]\n",
        "      gen = getGender(first_name)\n",
        "      state = r_split[-1].strip(\"\\n\")[1:]\n",
        "\n",
        "      print(first_name, last_name, age, gen, state)\n",
        "\n",
        "      try:\n",
        "        query = \"INSERT INTO `survivor_data`.`Players` (`first_name`, `last_name`, `sex`, `state`) VALUES (\"+addQuotes(first_name)+\",\"+addQuotes(last_name)+\",\"+addQuotes(gen)+\",\"+addQuotes(STATES[state])+\");\"\n",
        "        print(query)\n",
        "        #executeQuery(query)\n",
        "      except:\n",
        "        print(\"Error\")\n",
        "\n",
        "#commitQuery()"
      ],
      "execution_count": null,
      "outputs": [
        {
          "output_type": "stream",
          "text": [
            "[['Jonathan Libby23, Dallas, Texas\\n', 'None[a]\\n', '\\n'], ['James Miller33, Mobile, Alabama\\n', 'Ulong\\n'], ['Janu Tornell39, Las Vegas, Nevada\\n', 'Koror\\n'], ['Gregg Carey27, Chicago, Illinois\\n', 'Koror\\n'], ['Willard Smith56, Bellevue, Washington\\n', 'Koror\\n'], ['Kimberly \"Kim\" Mullen25, Huber Heights, Ohio\\n', 'Ulong\\n'], ['Coby Archa32, Athens, Texas\\n', 'Koror\\n', 'Koror\\n'], ['Stephenie LaGrossa24, Toms River, New Jersey\\n', 'Ulong\\n'], ['Ian Rosenberger23, Ambridge, Pennsylvania\\n', 'Koror\\n'], ['Caryn Groedel46, Solon, Ohio\\n', 'Koror\\n'], ['Jeff Wilson21, Ventura, California\\n', 'Ulong\\n'], [], ['Jolanda Jones38, Houston, Texas\\n', 'Ulong\\n'], ['Wanda Shirk55, Ulysses, Pennsylvania\\n', 'None[a]\\n'], ['Angie Jakusz †24, New Orleans, Louisiana\\n', 'Ulong\\n'], ['Ibrehem Rahman27, Birmingham, Alabama\\n', 'Ulong\\n'], ['Tom Westman40, Sayville, New York\\n', 'Koror\\n'], ['Jennifer \"Jenn\" Lyon †32, Encino, California\\n', 'Koror\\n'], ['Bobby Jon Drinkard27, Los Angeles, California\\n', 'Ulong\\n'], ['Katie Gallagher29, Merced, California\\n', 'Koror\\n'], ['Ashlee Ashby22, Easley, South Carolina\\n', 'Ulong\\n']]\n",
            "Jonathan Libby 23 M Texas\n",
            "INSERT INTO `survivor_data`.`Players` (`first_name`, `last_name`, `sex`, `state`) VALUES ( 'Jonathan' , 'Libby' , 'M' , 'TX' );\n",
            "James Miller 33 M Alabama\n",
            "INSERT INTO `survivor_data`.`Players` (`first_name`, `last_name`, `sex`, `state`) VALUES ( 'James' , 'Miller' , 'M' , 'AL' );\n",
            "Janu Tornell 39 F Nevada\n",
            "INSERT INTO `survivor_data`.`Players` (`first_name`, `last_name`, `sex`, `state`) VALUES ( 'Janu' , 'Tornell' , 'F' , 'NV' );\n",
            "Gregg Carey 27 M Illinois\n",
            "INSERT INTO `survivor_data`.`Players` (`first_name`, `last_name`, `sex`, `state`) VALUES ( 'Gregg' , 'Carey' , 'M' , 'IL' );\n",
            "Willard Smith 56 M Washington\n",
            "INSERT INTO `survivor_data`.`Players` (`first_name`, `last_name`, `sex`, `state`) VALUES ( 'Willard' , 'Smith' , 'M' , 'WA.' );\n",
            "Kimberly \"Kim\" Mullen 25 F Ohio\n",
            "INSERT INTO `survivor_data`.`Players` (`first_name`, `last_name`, `sex`, `state`) VALUES ( 'Kimberly' , '\"Kim\" Mullen' , 'F' , 'OH' );\n",
            "Coby Archa 32 F Texas\n",
            "INSERT INTO `survivor_data`.`Players` (`first_name`, `last_name`, `sex`, `state`) VALUES ( 'Coby' , 'Archa' , 'F' , 'TX' );\n",
            "Stephenie LaGrossa 24 F New Jersey\n",
            "INSERT INTO `survivor_data`.`Players` (`first_name`, `last_name`, `sex`, `state`) VALUES ( 'Stephenie' , 'LaGrossa' , 'F' , 'NJ' );\n",
            "Ian Rosenberger 23 M Pennsylvania\n",
            "INSERT INTO `survivor_data`.`Players` (`first_name`, `last_name`, `sex`, `state`) VALUES ( 'Ian' , 'Rosenberger' , 'M' , 'PA' );\n",
            "Caryn Groedel 46 F Ohio\n",
            "INSERT INTO `survivor_data`.`Players` (`first_name`, `last_name`, `sex`, `state`) VALUES ( 'Caryn' , 'Groedel' , 'F' , 'OH' );\n",
            "Jeff Wilson 21 M California\n",
            "INSERT INTO `survivor_data`.`Players` (`first_name`, `last_name`, `sex`, `state`) VALUES ( 'Jeff' , 'Wilson' , 'M' , 'CA' );\n",
            "Jolanda Jones 38 F Texas\n",
            "INSERT INTO `survivor_data`.`Players` (`first_name`, `last_name`, `sex`, `state`) VALUES ( 'Jolanda' , 'Jones' , 'F' , 'TX' );\n",
            "Wanda Shirk 55 F Pennsylvania\n",
            "INSERT INTO `survivor_data`.`Players` (`first_name`, `last_name`, `sex`, `state`) VALUES ( 'Wanda' , 'Shirk' , 'F' , 'PA' );\n",
            "Angie Jakusz † 24 F Louisiana\n",
            "INSERT INTO `survivor_data`.`Players` (`first_name`, `last_name`, `sex`, `state`) VALUES ( 'Angie' , 'Jakusz †' , 'F' , 'LA' );\n",
            "Ibrehem Rahman 27 F Alabama\n",
            "INSERT INTO `survivor_data`.`Players` (`first_name`, `last_name`, `sex`, `state`) VALUES ( 'Ibrehem' , 'Rahman' , 'F' , 'AL' );\n",
            "Tom Westman 40 M New York\n",
            "INSERT INTO `survivor_data`.`Players` (`first_name`, `last_name`, `sex`, `state`) VALUES ( 'Tom' , 'Westman' , 'M' , 'NY' );\n",
            "Jennifer \"Jenn\" Lyon † 32 F California\n",
            "INSERT INTO `survivor_data`.`Players` (`first_name`, `last_name`, `sex`, `state`) VALUES ( 'Jennifer' , '\"Jenn\" Lyon †' , 'F' , 'CA' );\n",
            "Bobby Jon Drinkard 27 M California\n",
            "INSERT INTO `survivor_data`.`Players` (`first_name`, `last_name`, `sex`, `state`) VALUES ( 'Bobby' , 'Jon Drinkard' , 'M' , 'CA' );\n",
            "Katie Gallagher 29 F California\n",
            "INSERT INTO `survivor_data`.`Players` (`first_name`, `last_name`, `sex`, `state`) VALUES ( 'Katie' , 'Gallagher' , 'F' , 'CA' );\n",
            "Ashlee Ashby 22 F South Carolina\n",
            "INSERT INTO `survivor_data`.`Players` (`first_name`, `last_name`, `sex`, `state`) VALUES ( 'Ashlee' , 'Ashby' , 'F' , 'SC' );\n"
          ],
          "name": "stdout"
        }
      ]
    },
    {
      "cell_type": "markdown",
      "metadata": {
        "id": "BvmYrBKF0jXA"
      },
      "source": [
        "## Add Players to Seasons Table"
      ]
    },
    {
      "cell_type": "code",
      "metadata": {
        "id": "JBZ0yAF60rhn",
        "colab": {
          "base_uri": "https://localhost:8080/"
        },
        "outputId": "9cad380a-de1b-4feb-b648-d8458c3e9304"
      },
      "source": [
        "season = 10\n",
        "url = getSeasonURL(season)\n",
        "rows =getPlayerTableInfoRandom(url)\n",
        "print(rows)\n",
        "\n",
        "for row in rows:\n",
        "  if len(row) !=0:\n",
        "    r_split = row[0].split(\",\")\n",
        "\n",
        "    if len(r_split) == 3:\n",
        "      name_age = r_split[0]\n",
        "      first_name = name_age[:-2].split(\" \", 1)[0]\n",
        "      last_name  = name_age[:-2].split(\" \", 1)[1]\n",
        "      age = name_age[-2:]\n",
        "\n",
        "\n",
        "\n",
        "      try:\n",
        "        survivor_id = getSurvivorId(first_name, last_name)\n",
        "        query = \"INSERT INTO `survivor_data`.`Seasons` (season_id, survivor_id, age)\"+\" VALUES('\"+str(season)+\"','\"+str(survivor_id)+\"','\"+str(age)+\"');\"\n",
        "        print(query)\n",
        "        #executeQuery(query)\n",
        "      except:\n",
        "        print(first_name, last_name, age)\n",
        "\n",
        "#commitQuery()\n"
      ],
      "execution_count": null,
      "outputs": [
        {
          "output_type": "stream",
          "text": [
            "[['Angie Jakusz †24, New Orleans, Louisiana\\n', 'Ulong\\n'], ['Jonathan Libby23, Dallas, Texas\\n', 'None[a]\\n', '\\n'], ['Ibrehem Rahman27, Birmingham, Alabama\\n', 'Ulong\\n'], ['Wanda Shirk55, Ulysses, Pennsylvania\\n', 'None[a]\\n'], ['Ashlee Ashby22, Easley, South Carolina\\n', 'Ulong\\n'], ['James Miller33, Mobile, Alabama\\n', 'Ulong\\n'], ['Jeff Wilson21, Ventura, California\\n', 'Ulong\\n'], ['Jolanda Jones38, Houston, Texas\\n', 'Ulong\\n'], ['Bobby Jon Drinkard27, Los Angeles, California\\n', 'Ulong\\n'], ['Coby Archa32, Athens, Texas\\n', 'Koror\\n', 'Koror\\n'], ['Jennifer \"Jenn\" Lyon †32, Encino, California\\n', 'Koror\\n'], ['Gregg Carey27, Chicago, Illinois\\n', 'Koror\\n'], ['Kimberly \"Kim\" Mullen25, Huber Heights, Ohio\\n', 'Ulong\\n'], [], ['Janu Tornell39, Las Vegas, Nevada\\n', 'Koror\\n'], ['Caryn Groedel46, Solon, Ohio\\n', 'Koror\\n'], ['Ian Rosenberger23, Ambridge, Pennsylvania\\n', 'Koror\\n'], ['Stephenie LaGrossa24, Toms River, New Jersey\\n', 'Ulong\\n'], ['Katie Gallagher29, Merced, California\\n', 'Koror\\n'], ['Willard Smith56, Bellevue, Washington\\n', 'Koror\\n'], ['Tom Westman40, Sayville, New York\\n', 'Koror\\n']]\n",
            "Angie Jakusz † 24\n",
            "INSERT INTO `survivor_data`.`Seasons` (season_id, survivor_id, age) VALUES('10','140','23');\n",
            "INSERT INTO `survivor_data`.`Seasons` (season_id, survivor_id, age) VALUES('10','146','27');\n",
            "INSERT INTO `survivor_data`.`Seasons` (season_id, survivor_id, age) VALUES('10','151','55');\n",
            "INSERT INTO `survivor_data`.`Seasons` (season_id, survivor_id, age) VALUES('10','139','22');\n",
            "INSERT INTO `survivor_data`.`Seasons` (season_id, survivor_id, age) VALUES('10','154','33');\n",
            "INSERT INTO `survivor_data`.`Seasons` (season_id, survivor_id, age) VALUES('10','145','21');\n",
            "INSERT INTO `survivor_data`.`Seasons` (season_id, survivor_id, age) VALUES('10','152','38');\n",
            "INSERT INTO `survivor_data`.`Seasons` (season_id, survivor_id, age) VALUES('10','147','27');\n",
            "INSERT INTO `survivor_data`.`Seasons` (season_id, survivor_id, age) VALUES('10','142','32');\n",
            "Jennifer \"Jenn\" Lyon † 32\n",
            "INSERT INTO `survivor_data`.`Seasons` (season_id, survivor_id, age) VALUES('10','138','27');\n",
            "INSERT INTO `survivor_data`.`Seasons` (season_id, survivor_id, age) VALUES('10','144','25');\n",
            "INSERT INTO `survivor_data`.`Seasons` (season_id, survivor_id, age) VALUES('10','156','39');\n",
            "INSERT INTO `survivor_data`.`Seasons` (season_id, survivor_id, age) VALUES('10','143','46');\n",
            "INSERT INTO `survivor_data`.`Seasons` (season_id, survivor_id, age) VALUES('10','153','23');\n",
            "INSERT INTO `survivor_data`.`Seasons` (season_id, survivor_id, age) VALUES('10','155','24');\n",
            "INSERT INTO `survivor_data`.`Seasons` (season_id, survivor_id, age) VALUES('10','149','29');\n",
            "INSERT INTO `survivor_data`.`Seasons` (season_id, survivor_id, age) VALUES('10','150','56');\n",
            "INSERT INTO `survivor_data`.`Seasons` (season_id, survivor_id, age) VALUES('10','157','40');\n"
          ],
          "name": "stdout"
        }
      ]
    },
    {
      "cell_type": "markdown",
      "metadata": {
        "id": "feuANwuIehxQ"
      },
      "source": [
        "## Add Votes for in Season Table"
      ]
    },
    {
      "cell_type": "code",
      "metadata": {
        "id": "jG3SQe1Tef5v",
        "colab": {
          "base_uri": "https://localhost:8080/"
        },
        "outputId": "9b17fb12-c6ce-41a8-8707-64b7397eafee"
      },
      "source": [
        "a = [ ['Brandon', 'Bellinger'], ['Brooke', 'Struck'], ['Judd', 'Sergeant']]\n",
        "v = [ ['Gary', 'Hogeboom'], ['Danni', 'Boatwright'], ['Margaret', 'Bobonich'] ]\n",
        "season = 11\n",
        "\n",
        "\n",
        "for player in a:\n",
        "  survivor_id = getSurvivorId(first_name=player[0], last_name=player[1])\n",
        "  query = \"UPDATE `survivor_data`.`Seasons` SET `vote_adam` = 1 WHERE `season_id` ='\"+str(season)+\"' and survivor_id ='\"+survivor_id+\"';\"\n",
        "  #executeQuery(query)\n",
        "  print(query)\n",
        "\n",
        "for player in v:\n",
        "  survivor_id = getSurvivorId(first_name=player[0], last_name=player[1])\n",
        "  query = \"UPDATE `survivor_data`.`Seasons` SET `vote_victoria` = 1 WHERE `season_id` ='\"+str(season)+\"' and survivor_id ='\"+survivor_id+\"';\"\n",
        "  #executeQuery(query)\n",
        "  print(query)\n",
        "\n",
        "#commitQuery()"
      ],
      "execution_count": null,
      "outputs": [
        {
          "output_type": "stream",
          "text": [
            "UPDATE `survivor_data`.`Seasons` SET `vote_adam` = 1 WHERE `season_id` ='11' and survivor_id ='164';\n",
            "UPDATE `survivor_data`.`Seasons` SET `vote_adam` = 1 WHERE `season_id` ='11' and survivor_id ='171';\n",
            "UPDATE `survivor_data`.`Seasons` SET `vote_adam` = 1 WHERE `season_id` ='11' and survivor_id ='166';\n",
            "UPDATE `survivor_data`.`Seasons` SET `vote_victoria` = 1 WHERE `season_id` ='11' and survivor_id ='159';\n",
            "UPDATE `survivor_data`.`Seasons` SET `vote_victoria` = 1 WHERE `season_id` ='11' and survivor_id ='168';\n",
            "UPDATE `survivor_data`.`Seasons` SET `vote_victoria` = 1 WHERE `season_id` ='11' and survivor_id ='158';\n"
          ],
          "name": "stdout"
        }
      ]
    },
    {
      "cell_type": "markdown",
      "metadata": {
        "id": "azJ-NNF4CEZz"
      },
      "source": [
        "## Set Players Place in the Season"
      ]
    },
    {
      "cell_type": "code",
      "metadata": {
        "id": "ClhUl5muChH0",
        "colab": {
          "base_uri": "https://localhost:8080/"
        },
        "outputId": "1157df40-6ef0-4e0e-a12f-00271b6bbaa7"
      },
      "source": [
        "season = 11\n",
        "url = getSeasonURL(season)\n",
        "rows =getPlayerTableInfo(url)\n",
        "rows = rows[1:]\n",
        "place = len(rows)\n",
        "\n",
        "print(rows)\n",
        "\n",
        "for row in rows:\n",
        "  if len(row) !=0:\n",
        "    r_split = row[0].split(\",\")\n",
        "\n",
        "    if len(r_split) == 3:\n",
        "      name_age = r_split[0]\n",
        "      first_name = name_age[:-2].split(\" \", 1)[0].strip(\" \")\n",
        "      last_name  = name_age[:-2].split(\" \", 1)[1].strip(\" \").strip(\"'\")\n",
        "\n",
        "      try:\n",
        "        print(first_name)\n",
        "        survivor_id = getSurvivorId(first_name, last_name)\n",
        "        query = \"UPDATE `survivor_data`.`Seasons` SET place =\"+ str(place) +\" WHERE `season_id` ='\"+str(season)+\"'and `survivor_id` ='\"+survivor_id+\"';\"\n",
        "        print(query)\n",
        "        #executeQuery(query)\n",
        "\n",
        "      except:\n",
        "        print(\"Error: \", first_name, last_name) \n",
        "        \n",
        "  place -= 1   \n",
        "\n",
        "#commitQuery()"
      ],
      "execution_count": null,
      "outputs": [
        {
          "output_type": "stream",
          "text": [
            "[['Jim Lynch63, Northglenn, Colorado\\n', 'Nakúm\\n', '\\n', '\\n'], ['Morgan McDevitt21, Decatur, Illinois\\n', 'Yaxhá\\n'], ['Brianna Varela21, Edmonds, Washington\\n', 'Yaxhá\\n'], ['Brooke Struck25, Hood River, Oregon\\n', 'Nakúm\\n', 'Nakúm\\n'], ['Blake Towsley24, Dallas, Texas\\n', 'Nakúm\\n', 'Yaxhá\\n'], ['Margaret Bobonich43, Chardon, Ohio\\n', 'Nakúm\\n', 'Nakúm\\n'], ['Brian Corridan22, New York City, New York\\n', 'Yaxhá\\n', 'Yaxhá\\n'], [\"Amy O'Hara39, Revere, Massachusetts\\n\", 'Yaxhá\\n', 'Yaxhá\\n'], ['Brandon Bellinger22, Manhattan, Kansas\\n', 'Nakúm\\n', 'Yaxhá\\n', 'Xhakúm\\n'], ['Bobby Jon Drinkard28, Los Angeles, CaliforniaPalau\\n', 'Nakúm\\n', 'Yaxhá\\n'], ['Jamie Newton24, North Hollywood, California\\n', 'Yaxhá\\n', 'Nakúm\\n'], ['Gary Hogeboom46, Grand Haven, Michigan\\n', 'Yaxhá\\n', 'Yaxhá\\n'], ['Judd Sergeant34, Ridgefield, New Jersey\\n', 'Nakúm\\n', 'Nakúm\\n'], ['Cindy Hall31, Naples, Florida\\n', 'Nakúm\\n', 'Nakúm\\n'], ['Lydia Morales42, Lakewood, Washington\\n', 'Yaxhá\\n', 'Nakúm\\n'], ['Rafe Judkins22, Pittsburgh, Pennsylvania\\n', 'Yaxhá\\n', 'Nakúm\\n'], ['Stephenie LaGrossa25, Toms River, New JerseyPalau\\n', 'Yaxhá\\n', 'Nakúm\\n'], ['Danni Boatwright29, Tonganoxie, Kansas\\n', 'Nakúm\\n', 'Yaxhá\\n']]\n",
            "Jim\n",
            "UPDATE `survivor_data`.`Seasons` SET place =18 WHERE `season_id` ='11'and `survivor_id` ='172';\n",
            "Morgan\n",
            "UPDATE `survivor_data`.`Seasons` SET place =17 WHERE `season_id` ='11'and `survivor_id` ='170';\n",
            "Brianna\n",
            "UPDATE `survivor_data`.`Seasons` SET place =16 WHERE `season_id` ='11'and `survivor_id` ='169';\n",
            "Brooke\n",
            "UPDATE `survivor_data`.`Seasons` SET place =15 WHERE `season_id` ='11'and `survivor_id` ='171';\n",
            "Blake\n",
            "UPDATE `survivor_data`.`Seasons` SET place =14 WHERE `season_id` ='11'and `survivor_id` ='161';\n",
            "Margaret\n",
            "UPDATE `survivor_data`.`Seasons` SET place =13 WHERE `season_id` ='11'and `survivor_id` ='158';\n",
            "Brian\n",
            "UPDATE `survivor_data`.`Seasons` SET place =12 WHERE `season_id` ='11'and `survivor_id` ='163';\n",
            "Amy\n",
            "Error:  Amy O'Hara\n",
            "Brandon\n",
            "UPDATE `survivor_data`.`Seasons` SET place =10 WHERE `season_id` ='11'and `survivor_id` ='164';\n",
            "Bobby\n",
            "UPDATE `survivor_data`.`Seasons` SET place =9 WHERE `season_id` ='11'and `survivor_id` ='147';\n",
            "Jamie\n",
            "UPDATE `survivor_data`.`Seasons` SET place =8 WHERE `season_id` ='11'and `survivor_id` ='167';\n",
            "Gary\n",
            "UPDATE `survivor_data`.`Seasons` SET place =7 WHERE `season_id` ='11'and `survivor_id` ='159';\n",
            "Judd\n",
            "UPDATE `survivor_data`.`Seasons` SET place =6 WHERE `season_id` ='11'and `survivor_id` ='166';\n",
            "Cindy\n",
            "UPDATE `survivor_data`.`Seasons` SET place =5 WHERE `season_id` ='11'and `survivor_id` ='162';\n",
            "Lydia\n",
            "UPDATE `survivor_data`.`Seasons` SET place =4 WHERE `season_id` ='11'and `survivor_id` ='160';\n",
            "Rafe\n",
            "UPDATE `survivor_data`.`Seasons` SET place =3 WHERE `season_id` ='11'and `survivor_id` ='165';\n",
            "Stephenie\n",
            "UPDATE `survivor_data`.`Seasons` SET place =2 WHERE `season_id` ='11'and `survivor_id` ='155';\n",
            "Danni\n",
            "UPDATE `survivor_data`.`Seasons` SET place =1 WHERE `season_id` ='11'and `survivor_id` ='168';\n"
          ],
          "name": "stdout"
        }
      ]
    },
    {
      "cell_type": "markdown",
      "metadata": {
        "id": "ih9fv521hznP"
      },
      "source": [
        "## Getting Challenge Winners"
      ]
    },
    {
      "cell_type": "code",
      "metadata": {
        "id": "-1lf6u9Ah2c_"
      },
      "source": [
        "response = requests.get(getSeasonURL(7))\n",
        "soup = BeautifulSoup(response.text, 'html.parser')\n",
        "table = soup.find_all('table', {'class': 'wikitable'})[1]\n",
        "table_rows = table.find_all('tr')\n",
        "\n",
        "rows = []\n",
        "for tr in table_rows:\n",
        "    td = tr.find_all('td')\n",
        "    td_row = [i.text for i in td]\n",
        "    if len(td_row) != 0:\n",
        "      rows.append(td_row)\n",
        "\n",
        "print(rows)\n",
        "\n",
        "count = 0\n",
        "\n",
        "for epi in rows:\n",
        "  if count >= 8:\n",
        "    reward = 'N/A'\n",
        "    immunity = 'N/A'\n",
        "\n",
        "    print(epi)\n",
        "\n",
        "    if epi[-1].strip(\"\\n\") != 'Runner-up' or epi[-1].strip(\"\\n\") != 'Sole Survivor':\n",
        "      if epi[-1][:2] == '13' or epi[-1][:2] == '14':\n",
        "        immunity = epi[-3].strip(\"\\n\")\n",
        "      elif len(epi) >= 4:\n",
        "        reward = epi[-4].strip(\"\\n\")\n",
        "        immunity = epi[-3].strip(\"\\n\")\n",
        "    \n",
        "    print(reward, immunity)\n",
        "  count +=1"
      ],
      "execution_count": null,
      "outputs": []
    },
    {
      "cell_type": "code",
      "metadata": {
        "id": "VZqK-xHhh0c-"
      },
      "source": [
        ""
      ],
      "execution_count": null,
      "outputs": []
    },
    {
      "cell_type": "markdown",
      "metadata": {
        "id": "A7Hpygp-h0H2"
      },
      "source": [
        ""
      ]
    }
  ]
}