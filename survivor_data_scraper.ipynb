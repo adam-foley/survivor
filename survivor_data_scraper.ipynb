{
  "nbformat": 4,
  "nbformat_minor": 0,
  "metadata": {
    "colab": {
      "name": "survivor_data_scraper.ipynb",
      "provenance": [],
      "collapsed_sections": [
        "v0Y1TJsYsmkb",
        "BvmYrBKF0jXA",
        "ih9fv521hznP",
        "4MKRZdVzssit"
      ],
      "toc_visible": true
    },
    "kernelspec": {
      "name": "python3",
      "display_name": "Python 3"
    },
    "language_info": {
      "name": "python"
    }
  },
  "cells": [
    {
      "cell_type": "markdown",
      "metadata": {
        "id": "lUpgzSeWinDd"
      },
      "source": [
        "#Surivor - Outwit, Outplay, Outlast"
      ]
    },
    {
      "cell_type": "markdown",
      "metadata": {
        "id": "GHtCQs8l-Kuo"
      },
      "source": [
        "## Imports and functions"
      ]
    },
    {
      "cell_type": "code",
      "metadata": {
        "colab": {
          "base_uri": "https://localhost:8080/"
        },
        "id": "RGFiIXrJSX8a",
        "outputId": "703f6d45-2f93-40e3-848a-811c78ff97a8"
      },
      "source": [
        "%pip install gender_guesser\n",
        "%pip install pymysql\n",
        "\n",
        "from bs4 import BeautifulSoup\n",
        "\n",
        "import requests\n",
        "import urllib.request\n",
        "import time\n",
        "import random\n",
        "import requests\n",
        "import random\n",
        "import os\n",
        "import pymysql\n",
        "import time\n",
        "import gender_guesser.detector as gender\n",
        "import pandas as pd\n",
        "import numpy as np\n",
        "\n",
        "STATES = {'Alabama': 'AL', 'Alaska': 'AK', 'Arizona': 'AZ', 'Arkansas': 'AR', 'California': 'CA', 'Colorado': 'CO', 'Connecticut': 'CT', 'Delaware': 'DE', 'D.C.': 'DC', 'Florida': 'FL', \n",
        "          'Georgia': 'GA', 'Hawaii': 'HI', 'Idaho': 'ID', 'Illinois': 'IL', 'Indiana': 'IN', 'Iowa': 'IA', 'Kansas': 'KS', 'Kentucky': 'KY', 'Louisiana': 'LA', 'Maine': 'ME', \n",
        "          'Maryland': 'MD', 'Massachusetts': 'MA', 'Michigan': 'MI', 'Minnesota': 'MN', 'Mississippi': 'MS', 'Missouri': 'MO', 'Montana': 'MT', 'Nebraska': 'NE', \n",
        "          'Nevada': 'NV', 'New Hampshire': 'NH', 'New Jersey': 'NJ', 'New Mexico': 'NM', 'New York': 'NY', 'North Carolina': 'NC', 'North Dakota': 'ND', 'Ohio': 'OH', \n",
        "          'Oklahoma': 'OK', 'Oregon': 'OR', 'Pennsylvania': 'PA', 'Rhode Island': 'RI', 'South Carolina': 'SC', 'South Dakota': 'SD', 'Tennessee': 'TN', 'Texas': 'TX', \n",
        "          'Utah': 'UT', 'Vermont': 'VT', 'Virginia': 'VA', 'Washington': 'WA.', 'West Virginia': 'WV', 'Wisconsin': 'WI', 'Wyoming': 'WY'}\n",
        "\n",
        "\n",
        "SEASONS = ['Borneo', 'The_Australian_Outback', 'Africa', 'Marquesas', 'Thailand', 'The_Amazon', 'Pearl_Islands', 'All-Stars', 'Vanuatu'] \n",
        "\n",
        "def getSeasonURL(season_num):\n",
        "  wiki_url = 'https://en.wikipedia.org/wiki/Survivor:_'\n",
        "  return wiki_url + SEASONS[ season_num - 1 ]\n",
        "\n",
        "def getSurvivorId(first_name, last_name):\n",
        "  first_name = \"'\"+first_name+\"'\"\n",
        "  last_name = \"'\"+last_name.strip(\" \")+\"'\"\n",
        "  query = \"Select survivor_id from survivor_data.Players where first_name =\"+first_name+\" and last_name=\"+last_name+\";\"\n",
        "  print(query)\n",
        "  cur.execute(query)\n",
        "  id = cur.fetchone()[0]\n",
        "  return str(id)\n",
        "\n",
        "def executeQuery(query):\n",
        "  cur.execute(query)\n",
        "\n",
        "def commitQuery():\n",
        "  conn.commit()\n",
        "\n",
        "def findStateInString(s):\n",
        "  word = ''\n",
        "  for char in s:\n",
        "    if word in states:\n",
        "      return word\n",
        "    else:\n",
        "      word += char\n",
        "\n",
        "def addQuotes(s):\n",
        "  return \" '\"+s+\"' \"\n",
        "\n",
        "def getGender(name):\n",
        "  d = gender.Detector()\n",
        "  g = d.get_gender(name).split(\"_\")\n",
        "\n",
        "  if len(g) == 2:\n",
        "    gn = g[-1]\n",
        "  else:\n",
        "    gn = g[0]\n",
        "    \n",
        "  if gn == \"male\":\n",
        "    return 'M'\n",
        "  else:\n",
        "    return 'F'\n",
        "\n",
        "def getPlayerTableInfoRandom(url):\n",
        "  response = requests.get(url)\n",
        "  soup = BeautifulSoup(response.text, 'html.parser')\n",
        "  table = soup.find_all('table', {'class': 'wikitable'})[0]\n",
        "  table_rows = table.find_all('tr')\n",
        "\n",
        "  rows = []\n",
        "  for tr in table_rows:\n",
        "      td = tr.find_all('td')\n",
        "      td_row = [i.text for i in td]\n",
        "      rows.append(td_row[:-1])\n",
        "      random.shuffle(rows)\n",
        "\n",
        "  return rows\n",
        "\n",
        "def getPlayerTableInfo(url):\n",
        "  response = requests.get(url)\n",
        "  soup = BeautifulSoup(response.text, 'html.parser')\n",
        "  table = soup.find_all('table', {'class': 'wikitable'})[0]\n",
        "  table_rows = table.find_all('tr')\n",
        "\n",
        "  rows = []\n",
        "  for tr in table_rows:\n",
        "      td = tr.find_all('td')\n",
        "      td_row = [i.text for i in td]\n",
        "      rows.append(td_row[:-1])\n",
        "\n",
        "  return rows"
      ],
      "execution_count": 2,
      "outputs": [
        {
          "output_type": "stream",
          "text": [
            "Collecting gender_guesser\n",
            "  Downloading gender_guesser-0.4.0-py2.py3-none-any.whl (379 kB)\n",
            "\u001b[?25l\r\u001b[K     |▉                               | 10 kB 24.3 MB/s eta 0:00:01\r\u001b[K     |█▊                              | 20 kB 28.2 MB/s eta 0:00:01\r\u001b[K     |██▋                             | 30 kB 30.6 MB/s eta 0:00:01\r\u001b[K     |███▌                            | 40 kB 32.8 MB/s eta 0:00:01\r\u001b[K     |████▎                           | 51 kB 34.7 MB/s eta 0:00:01\r\u001b[K     |█████▏                          | 61 kB 37.4 MB/s eta 0:00:01\r\u001b[K     |██████                          | 71 kB 37.8 MB/s eta 0:00:01\r\u001b[K     |███████                         | 81 kB 36.0 MB/s eta 0:00:01\r\u001b[K     |███████▊                        | 92 kB 37.1 MB/s eta 0:00:01\r\u001b[K     |████████▋                       | 102 kB 32.0 MB/s eta 0:00:01\r\u001b[K     |█████████▌                      | 112 kB 32.0 MB/s eta 0:00:01\r\u001b[K     |██████████▍                     | 122 kB 32.0 MB/s eta 0:00:01\r\u001b[K     |███████████▎                    | 133 kB 32.0 MB/s eta 0:00:01\r\u001b[K     |████████████                    | 143 kB 32.0 MB/s eta 0:00:01\r\u001b[K     |█████████████                   | 153 kB 32.0 MB/s eta 0:00:01\r\u001b[K     |█████████████▉                  | 163 kB 32.0 MB/s eta 0:00:01\r\u001b[K     |██████████████▊                 | 174 kB 32.0 MB/s eta 0:00:01\r\u001b[K     |███████████████▌                | 184 kB 32.0 MB/s eta 0:00:01\r\u001b[K     |████████████████▍               | 194 kB 32.0 MB/s eta 0:00:01\r\u001b[K     |█████████████████▎              | 204 kB 32.0 MB/s eta 0:00:01\r\u001b[K     |██████████████████▏             | 215 kB 32.0 MB/s eta 0:00:01\r\u001b[K     |███████████████████             | 225 kB 32.0 MB/s eta 0:00:01\r\u001b[K     |███████████████████▉            | 235 kB 32.0 MB/s eta 0:00:01\r\u001b[K     |████████████████████▊           | 245 kB 32.0 MB/s eta 0:00:01\r\u001b[K     |█████████████████████▋          | 256 kB 32.0 MB/s eta 0:00:01\r\u001b[K     |██████████████████████▌         | 266 kB 32.0 MB/s eta 0:00:01\r\u001b[K     |███████████████████████▎        | 276 kB 32.0 MB/s eta 0:00:01\r\u001b[K     |████████████████████████▏       | 286 kB 32.0 MB/s eta 0:00:01\r\u001b[K     |█████████████████████████       | 296 kB 32.0 MB/s eta 0:00:01\r\u001b[K     |██████████████████████████      | 307 kB 32.0 MB/s eta 0:00:01\r\u001b[K     |██████████████████████████▉     | 317 kB 32.0 MB/s eta 0:00:01\r\u001b[K     |███████████████████████████▋    | 327 kB 32.0 MB/s eta 0:00:01\r\u001b[K     |████████████████████████████▌   | 337 kB 32.0 MB/s eta 0:00:01\r\u001b[K     |█████████████████████████████▍  | 348 kB 32.0 MB/s eta 0:00:01\r\u001b[K     |██████████████████████████████▎ | 358 kB 32.0 MB/s eta 0:00:01\r\u001b[K     |███████████████████████████████ | 368 kB 32.0 MB/s eta 0:00:01\r\u001b[K     |████████████████████████████████| 378 kB 32.0 MB/s eta 0:00:01\r\u001b[K     |████████████████████████████████| 379 kB 32.0 MB/s \n",
            "\u001b[?25hInstalling collected packages: gender-guesser\n",
            "Successfully installed gender-guesser-0.4.0\n",
            "Collecting pymysql\n",
            "  Downloading PyMySQL-1.0.2-py3-none-any.whl (43 kB)\n",
            "\u001b[K     |████████████████████████████████| 43 kB 2.0 MB/s \n",
            "\u001b[?25hInstalling collected packages: pymysql\n",
            "Successfully installed pymysql-1.0.2\n"
          ],
          "name": "stdout"
        }
      ]
    },
    {
      "cell_type": "markdown",
      "metadata": {
        "id": "dW1EGwP-jvOp"
      },
      "source": [
        "## AWS Login"
      ]
    },
    {
      "cell_type": "code",
      "metadata": {
        "colab": {
          "base_uri": "https://localhost:8080/"
        },
        "id": "Mv-4qVDNjuXU",
        "outputId": "101b0935-15c9-4f1c-c56f-5393079e8b1d"
      },
      "source": [
        "  succeess = False\n",
        "\n",
        "  while not succeess:\n",
        "    password = input(\"Password: \");\n",
        "    try:\n",
        "      conn = pymysql.connect(\n",
        "          host='aws-survivor.cpapv35x7rsh.us-east-2.rds.amazonaws.com',\n",
        "          port=int(3306),\n",
        "          user=\"admin\",\n",
        "          passwd=password,\n",
        "          db=\"survivor_data\",\n",
        "          charset='utf8mb4')\n",
        "      cur = conn.cursor()\n",
        "      succeess = True\n",
        "    except:\n",
        "      print(\"Wrong Password\")\n",
        "  print(\"Connection Made\")"
      ],
      "execution_count": null,
      "outputs": [
        {
          "output_type": "stream",
          "text": [
            "Password: Frederickwilliams121234\n",
            "Connection Made\n"
          ],
          "name": "stdout"
        }
      ]
    },
    {
      "cell_type": "code",
      "metadata": {
        "id": "R2f-Z_yKccbz"
      },
      "source": [
        "cur.close()"
      ],
      "execution_count": null,
      "outputs": []
    },
    {
      "cell_type": "markdown",
      "metadata": {
        "id": "v0Y1TJsYsmkb"
      },
      "source": [
        "## Adding Players to Players Table"
      ]
    },
    {
      "cell_type": "code",
      "metadata": {
        "colab": {
          "base_uri": "https://localhost:8080/"
        },
        "id": "YsKRHzLjJ5bX",
        "outputId": "46537bdb-2358-4564-89c4-85c4754ace7f"
      },
      "source": [
        "url = SEASONS[8]\n",
        "rows =getPlayerTableInfoRandom(url)\n",
        "print(rows)\n",
        "\n",
        "for row in rows:\n",
        "  if len(row) !=0:\n",
        "    r_split = row[0].split(\",\")\n",
        "\n",
        "    if len(r_split) == 3:\n",
        "      name_age = r_split[0]\n",
        "      first_name = name_age[:-2].split(\" \", 1)[0]\n",
        "      last_name  = name_age[:-2].split(\" \", 1)[1]\n",
        "      age = name_age[-2:]\n",
        "      gen = getGender(first_name)\n",
        "      state = r_split[-1].strip(\"\\n\")[1:]\n",
        "\n",
        "      print(first_name, last_name, age, gen, state)\n",
        "      try:\n",
        "        query = \"INSERT INTO `survivor_data`.`Players` (`first_name`, `last_name`, `sex`, `state`) VALUES (\"+addQuotes(first_name)+\",\"+addQuotes(last_name)+\",\"+addQuotes(gen)+\",\"+addQuotes(STATES[state])+\");\"\n",
        "        #executeQuery(query)\n",
        "      except:\n",
        "        print(\"Error\")\n",
        "\n",
        "#commitQuery()"
      ],
      "execution_count": null,
      "outputs": [
        {
          "output_type": "stream",
          "text": [
            "[['Twila Tanner41, Marshall, Missouri\\n', 'Yasur\\n', 'Lopevi\\n'], ['Travis \"Bubba\" Sampson33, Johnson City, Tennessee\\n', 'Lopevi\\n', 'Yasur\\n'], ['Brady Finta33, Huntington Beach, California\\n', 'Lopevi\\n'], ['Ami Cusack31, Lakewood, Colorado\\n', 'Yasur\\n', 'Yasur\\n'], ['Lisa Keiffer44, Mandeville, Louisiana\\n', 'Yasur\\n', 'Yasur\\n'], ['Rory Freeman35, Des Moines, Iowa\\n', 'Lopevi\\n', 'Yasur\\n', 'Alinta\\n'], ['Leann Slaby35, Kansasville, Wisconsin\\n', 'Yasur\\n', 'Yasur\\n'], ['Brook Geraghty27, Winthrop, Massachusetts\\n', 'Lopevi\\n', '\\n', '\\n'], ['Scout Cloud Lee59, Stillwater, Oklahoma\\n', 'Yasur\\n', 'Yasur\\n'], ['Chris Daugherty33, South Vienna, Ohio\\n', 'Lopevi\\n', 'Lopevi\\n'], ['Julie Berry23, Gorham, Maine\\n', 'Yasur\\n', 'Lopevi\\n'], ['Lea \"Sarge\" Masters40, Columbia, South Carolina\\n', 'Lopevi\\n', 'Lopevi\\n'], ['Mia Galeotalanza29, Boston, Massachusetts\\n', 'Yasur\\n'], ['John Kenney22, Los Angeles, California\\n', 'Lopevi\\n', 'Lopevi\\n'], ['James \"Chad\" Crittenden34, Oakland, California\\n', 'Lopevi\\n', 'Lopevi\\n'], ['Eliza Orlins21, Syracuse, New York\\n', 'Yasur\\n', 'Yasur\\n'], [], ['Dolly Neely25, Lake Latonka, Pennsylvania\\n', 'Yasur\\n'], ['John Palyok31, Los Angeles, California\\n', 'Lopevi\\n']]\n",
            "Twila Tanner 41 F Missouri\n",
            "Travis \"Bubba\" Sampson 33 M Tennessee\n",
            "Brady Finta 33 M California\n",
            "Ami Cusack 31 F Colorado\n",
            "Lisa Keiffer 44 F Louisiana\n",
            "Rory Freeman 35 M Iowa\n",
            "Leann Slaby 35 F Wisconsin\n",
            "Brook Geraghty 27 F Massachusetts\n",
            "Scout Cloud Lee 59 F Oklahoma\n",
            "Chris Daugherty 33 M Ohio\n",
            "Julie Berry 23 F Maine\n",
            "Lea \"Sarge\" Masters 40 F South Carolina\n",
            "Mia Galeotalanza 29 F Massachusetts\n",
            "John Kenney 22 M California\n",
            "James \"Chad\" Crittenden 34 M California\n",
            "Eliza Orlins 21 F New York\n",
            "Dolly Neely 25 F Pennsylvania\n",
            "John Palyok 31 M California\n"
          ],
          "name": "stdout"
        }
      ]
    },
    {
      "cell_type": "markdown",
      "metadata": {
        "id": "BvmYrBKF0jXA"
      },
      "source": [
        "## Add Players to Seasons Table"
      ]
    },
    {
      "cell_type": "code",
      "metadata": {
        "id": "JBZ0yAF60rhn",
        "colab": {
          "base_uri": "https://localhost:8080/"
        },
        "outputId": "cbd93b7c-070d-4fac-c95a-4790f3edf9ed"
      },
      "source": [
        "season = 9\n",
        "url = SEASONS[season - 1]\n",
        "rows =getPlayerTableInfoRandom(url)\n",
        "print(rows)\n",
        "\n",
        "for row in rows:\n",
        "  if len(row) !=0:\n",
        "    r_split = row[0].split(\",\")\n",
        "\n",
        "    if len(r_split) == 3:\n",
        "      name_age = r_split[0]\n",
        "      first_name = name_age[:-2].split(\" \", 1)[0]\n",
        "      last_name  = name_age[:-2].split(\" \", 1)[1]\n",
        "      age = name_age[-2:]\n",
        "\n",
        "      try:\n",
        "        survivor_id = getSurvivorId(first_name, last_name)\n",
        "        query = \"INSERT INTO `survivor_data`.`Seasons` (season_id, survivor_id, age)\" +\" VALUES('\"+str(season)+\"','\"+survivor_id+\"','\"+str(age)+\"');\"\n",
        "        print(query)\n",
        "        #executeQuery(query)\n",
        "      except:\n",
        "        print(first_name, last_name, age)\n",
        "\n",
        "#commitQuery()\n"
      ],
      "execution_count": null,
      "outputs": [
        {
          "output_type": "stream",
          "text": [
            "[['Travis \"Bubba\" Sampson33, Johnson City, Tennessee\\n', 'Lopevi\\n', 'Yasur\\n'], ['Leann Slaby35, Kansasville, Wisconsin\\n', 'Yasur\\n', 'Yasur\\n'], ['Scout Cloud Lee59, Stillwater, Oklahoma\\n', 'Yasur\\n', 'Yasur\\n'], ['Rory Freeman35, Des Moines, Iowa\\n', 'Lopevi\\n', 'Yasur\\n', 'Alinta\\n'], ['Julie Berry23, Gorham, Maine\\n', 'Yasur\\n', 'Lopevi\\n'], ['Dolly Neely25, Lake Latonka, Pennsylvania\\n', 'Yasur\\n'], ['John Kenney22, Los Angeles, California\\n', 'Lopevi\\n', 'Lopevi\\n'], ['Mia Galeotalanza29, Boston, Massachusetts\\n', 'Yasur\\n'], ['Eliza Orlins21, Syracuse, New York\\n', 'Yasur\\n', 'Yasur\\n'], ['Twila Tanner41, Marshall, Missouri\\n', 'Yasur\\n', 'Lopevi\\n'], ['Brook Geraghty27, Winthrop, Massachusetts\\n', 'Lopevi\\n', '\\n', '\\n'], ['James \"Chad\" Crittenden34, Oakland, California\\n', 'Lopevi\\n', 'Lopevi\\n'], [], ['John Palyok31, Los Angeles, California\\n', 'Lopevi\\n'], ['Brady Finta33, Huntington Beach, California\\n', 'Lopevi\\n'], ['Lisa Keiffer44, Mandeville, Louisiana\\n', 'Yasur\\n', 'Yasur\\n'], ['Chris Daugherty33, South Vienna, Ohio\\n', 'Lopevi\\n', 'Lopevi\\n'], ['Ami Cusack31, Lakewood, Colorado\\n', 'Yasur\\n', 'Yasur\\n'], ['Lea \"Sarge\" Masters40, Columbia, South Carolina\\n', 'Lopevi\\n', 'Lopevi\\n']]\n",
            "Select survivor_id from survivor_data.Players where first_name ='Travis' and last_name='\"Bubba\" Sampson';\n",
            "INSERT INTO `survivor_data`.`Seasons` (season_id, survivor_id, age) VALUES('9','126','33');\n",
            "Select survivor_id from survivor_data.Players where first_name ='Leann' and last_name='Slaby';\n",
            "INSERT INTO `survivor_data`.`Seasons` (season_id, survivor_id, age) VALUES('9','122','35');\n",
            "Select survivor_id from survivor_data.Players where first_name ='Scout' and last_name='Cloud Lee';\n",
            "INSERT INTO `survivor_data`.`Seasons` (season_id, survivor_id, age) VALUES('9','135','59');\n",
            "Select survivor_id from survivor_data.Players where first_name ='Rory' and last_name='Freeman';\n",
            "INSERT INTO `survivor_data`.`Seasons` (season_id, survivor_id, age) VALUES('9','120','35');\n",
            "Select survivor_id from survivor_data.Players where first_name ='Julie' and last_name='Berry';\n",
            "INSERT INTO `survivor_data`.`Seasons` (season_id, survivor_id, age) VALUES('9','121','23');\n",
            "Select survivor_id from survivor_data.Players where first_name ='Dolly' and last_name='Neely';\n",
            "INSERT INTO `survivor_data`.`Seasons` (season_id, survivor_id, age) VALUES('9','136','25');\n",
            "Select survivor_id from survivor_data.Players where first_name ='John' and last_name='Kenney';\n",
            "INSERT INTO `survivor_data`.`Seasons` (season_id, survivor_id, age) VALUES('9','128','22');\n",
            "Select survivor_id from survivor_data.Players where first_name ='Mia' and last_name='Galeotalanza';\n",
            "INSERT INTO `survivor_data`.`Seasons` (season_id, survivor_id, age) VALUES('9','137','29');\n",
            "Select survivor_id from survivor_data.Players where first_name ='Eliza' and last_name='Orlins';\n",
            "INSERT INTO `survivor_data`.`Seasons` (season_id, survivor_id, age) VALUES('9','127','21');\n",
            "Select survivor_id from survivor_data.Players where first_name ='Twila' and last_name='Tanner';\n",
            "INSERT INTO `survivor_data`.`Seasons` (season_id, survivor_id, age) VALUES('9','132','41');\n",
            "Select survivor_id from survivor_data.Players where first_name ='Brook' and last_name='Geraghty';\n",
            "INSERT INTO `survivor_data`.`Seasons` (season_id, survivor_id, age) VALUES('9','130','27');\n",
            "Select survivor_id from survivor_data.Players where first_name ='James' and last_name='\"Chad\" Crittenden';\n",
            "INSERT INTO `survivor_data`.`Seasons` (season_id, survivor_id, age) VALUES('9','124','34');\n",
            "Select survivor_id from survivor_data.Players where first_name ='John' and last_name='Palyok';\n",
            "INSERT INTO `survivor_data`.`Seasons` (season_id, survivor_id, age) VALUES('9','134','31');\n",
            "Select survivor_id from survivor_data.Players where first_name ='Brady' and last_name='Finta';\n",
            "INSERT INTO `survivor_data`.`Seasons` (season_id, survivor_id, age) VALUES('9','129','33');\n",
            "Select survivor_id from survivor_data.Players where first_name ='Lisa' and last_name='Keiffer';\n",
            "INSERT INTO `survivor_data`.`Seasons` (season_id, survivor_id, age) VALUES('9','133','44');\n",
            "Select survivor_id from survivor_data.Players where first_name ='Chris' and last_name='Daugherty';\n",
            "INSERT INTO `survivor_data`.`Seasons` (season_id, survivor_id, age) VALUES('9','131','33');\n",
            "Select survivor_id from survivor_data.Players where first_name ='Ami' and last_name='Cusack';\n",
            "INSERT INTO `survivor_data`.`Seasons` (season_id, survivor_id, age) VALUES('9','123','31');\n",
            "Select survivor_id from survivor_data.Players where first_name ='Lea' and last_name='\"Sarge\" Masters';\n",
            "Lea \"Sarge\" Masters 40\n"
          ],
          "name": "stdout"
        }
      ]
    },
    {
      "cell_type": "markdown",
      "metadata": {
        "id": "feuANwuIehxQ"
      },
      "source": [
        "## Add Votes for in Season Table"
      ]
    },
    {
      "cell_type": "code",
      "metadata": {
        "id": "jG3SQe1Tef5v",
        "colab": {
          "base_uri": "https://localhost:8080/"
        },
        "outputId": "f4ca1c32-ced0-41d5-ce7f-5440953b8d8f"
      },
      "source": [
        "a = [ ['Lea', 'Masters'], ['Lisa', 'Keiffer'], ['John', 'Palyok'] ]\n",
        "v = [ ['Brady', 'Finta'], ['Julie', 'Berry'], ['Chris', 'Daugherty'] ]\n",
        "season = 9\n",
        "\n",
        "\n",
        "for player in a:\n",
        "  survivor_id = getSurvivorId(first_name=player[0], last_name=player[1])\n",
        "  query = \"UPDATE `survivor_data`.`Seasons` SET `vote_adam` = 1 WHERE `season_id` ='\"+str(season)+\"' and survivor_id ='\"+survivor_id+\"';\"\n",
        "  executeQuery(query)\n",
        "  print(query)\n",
        "\n",
        "for player in v:\n",
        "  survivor_id = getSurvivorId(first_name=player[0], last_name=player[1])\n",
        "  query = \"UPDATE `survivor_data`.`Seasons` SET `vote_victoria` = 1 WHERE `season_id` ='\"+str(season)+\"' and `survivor_id ='\"+survivor_id+\"';\"\n",
        "  executeQuery(query)\n",
        "  print(query)\n",
        "\n",
        "commitQuery()"
      ],
      "execution_count": null,
      "outputs": [
        {
          "output_type": "stream",
          "text": [
            "Select survivor_id from survivor_data.Players where first_name ='Lea' and last_name='Masters';\n",
            "UPDATE `survivor_data`.`Seasons` SET `vote_adam` = 1 WHERE `season_id` ='9' and survivor_id ='125';\n",
            "Select survivor_id from survivor_data.Players where first_name ='Lisa' and last_name='Keiffer';\n",
            "UPDATE `survivor_data`.`Seasons` SET `vote_adam` = 1 WHERE `season_id` ='9' and survivor_id ='133';\n",
            "Select survivor_id from survivor_data.Players where first_name ='John' and last_name='Palyok';\n",
            "UPDATE `survivor_data`.`Seasons` SET `vote_adam` = 1 WHERE `season_id` ='9' and survivor_id ='134';\n",
            "Select survivor_id from survivor_data.Players where first_name ='Brady' and last_name='Finta';\n",
            "UPDATE `survivor_data`.`Seasons` SET `vote_victoria` = 1 WHERE `season_id` ='9' and survivor_id ='129';\n",
            "Select survivor_id from survivor_data.Players where first_name ='Julie' and last_name='Berry';\n",
            "UPDATE `survivor_data`.`Seasons` SET `vote_victoria` = 1 WHERE `season_id` ='9' and survivor_id ='121';\n",
            "Select survivor_id from survivor_data.Players where first_name ='Chris' and last_name='Daugherty';\n",
            "UPDATE `survivor_data`.`Seasons` SET `vote_victoria` = 1 WHERE `season_id` ='9' and survivor_id ='131';\n"
          ],
          "name": "stdout"
        }
      ]
    },
    {
      "cell_type": "markdown",
      "metadata": {
        "id": "azJ-NNF4CEZz"
      },
      "source": [
        "## Set Players Place in the Season"
      ]
    },
    {
      "cell_type": "code",
      "metadata": {
        "id": "ClhUl5muChH0"
      },
      "source": [
        "season = 8\n",
        "url = SEASONS[season - 1]\n",
        "rows =getPlayerTableInfo(url)\n",
        "rows = rows[1:]\n",
        "place = len(rows)\n",
        "\n",
        "print(rows)\n",
        "\n",
        "for row in rows:\n",
        "  if len(row) !=0:\n",
        "    r_split = row[0].split(\",\")\n",
        "\n",
        "    if len(r_split) == 3:\n",
        "      name_age = r_split[0]\n",
        "      first_name = name_age[:-2].split(\" \", 1)[0].strip(\" \")\n",
        "      last_name  = name_age[:-2].split(\" \", 1)[1].strip(\" \").strip(\"'\")\n",
        "      #survivor_id = getSurvivorId(first_name, last_name)\n",
        "\n",
        "      try:\n",
        "        survivor_id = getSurvivorId(first_name, last_name)\n",
        "        query = \"UPDATE `survivor_data`.`Seasons` SET place =\"+ str(place) +\" WHERE `season_id` = 8 and `survivor_id` ='\"+survivor_id+\"';\"\n",
        "        #executeQuery(query)\n",
        "\n",
        "      except:\n",
        "        print(\"Error: \", first_name, last_name) \n",
        "        \n",
        "  place -= 1   \n",
        "\n",
        "#commitQuery()"
      ],
      "execution_count": null,
      "outputs": []
    },
    {
      "cell_type": "markdown",
      "metadata": {
        "id": "ih9fv521hznP"
      },
      "source": [
        "## Getting Challenge Winners"
      ]
    },
    {
      "cell_type": "code",
      "metadata": {
        "id": "-1lf6u9Ah2c_",
        "outputId": "09309e13-4903-4241-c2d5-c39c64efea1d",
        "colab": {
          "base_uri": "https://localhost:8080/"
        }
      },
      "source": [
        "response = requests.get(getSeasonURL(7))\n",
        "soup = BeautifulSoup(response.text, 'html.parser')\n",
        "table = soup.find_all('table', {'class': 'wikitable'})[1]\n",
        "table_rows = table.find_all('tr')\n",
        "\n",
        "rows = []\n",
        "for tr in table_rows:\n",
        "    td = tr.find_all('td')\n",
        "    td_row = [i.text for i in td]\n",
        "    if len(td_row) != 0:\n",
        "      rows.append(td_row)\n",
        "\n",
        "print(rows)\n",
        "\n",
        "count = 0\n",
        "\n",
        "for epi in rows:\n",
        "  if count >= 8:\n",
        "    reward = 'N/A'\n",
        "    immunity = 'N/A'\n",
        "\n",
        "    print(epi)\n",
        "\n",
        "    if epi[-1].strip(\"\\n\") != 'Runner-up' or epi[-1].strip(\"\\n\") != 'Sole Survivor':\n",
        "      if epi[-1][:2] == '13' or epi[-1][:2] == '14':\n",
        "        immunity = epi[-3].strip(\"\\n\")\n",
        "      elif len(epi) >= 4:\n",
        "        reward = epi[-4].strip(\"\\n\")\n",
        "        immunity = epi[-3].strip(\"\\n\")\n",
        "    \n",
        "    print(reward, immunity)\n",
        "  count +=1"
      ],
      "execution_count": 10,
      "outputs": [
        {
          "output_type": "stream",
          "text": [
            "[['\"Beg, Barter, Steal\"\\n', 'September 18, 2003\\n', 'None\\n', 'Drake\\n', 'Nicole\\n', '1st voted outDay 3\\n'], ['\"To Quit or Not to Quit\"\\n', 'September 25, 2003\\n', 'Drake\\n', 'Drake\\n', 'Ryan\\xa0S.\\n', '2nd voted outDay 6\\n'], ['\"United We Stand, Divided We...?\"\\n', 'October 2, 2003\\n', 'Drake\\n', 'Drake\\n', 'Lillian\\n', '3rd voted outDay 9\\n'], ['\"Pick a Castaway...Any Castaway\"\\n', 'October 9, 2003\\n', 'Drake\\n', 'Morgan\\n', 'Burton\\n', '4th voted outDay 12\\n'], ['[Rupert][a]\\n'], ['\"Everyone\\'s Hero\"\\n', 'October 16, 2003\\n', 'Morgan\\n', 'Morgan\\n', 'Michelle\\n', '5th voted outDay 15\\n'], ['\"Me and My Snake\"\\n', 'October 23, 2003\\n', 'Drake\\n', 'Morgan\\n', 'Trish\\n', '6th voted outDay 18\\n'], ['\"What the...?, Part 1\"\\n', 'October 30, 2003\\n', 'None\\n', 'Outcasts[b]\\n', 'Shawn\\n', '7th voted outDay 19\\n'], ['Osten\\n', 'QuitDay 19\\n'], ['\"What the...?, Part 2\"\\n', 'November 6, 2003\\n', 'None[c]\\n'], ['Burton[d]\\n', 'Andrew\\n', '8th voted outDay 21\\n'], ['Lillian[d]\\n'], ['Burton (Rupert)[d]\\n'], ['\"Shocking! Simply Shocking!\"\\n', 'November 13, 2003\\n', 'Rupert[e](Burton)[Lillian]\\n', 'Rupert\\n', 'Ryan O.\\n', '9th voted out1st jury memberDay 24\\n'], ['\"Swimming With Sharks\"\\n', 'November 20, 2003\\n', 'Burton[f](Jon),Lillian\\n', 'Burton\\n', 'Rupert\\n', '10th voted out2nd jury memberDay 27\\n'], ['\"The Great Lie\"\\n', 'November 26, 2003\\n', 'Jon\\n', 'Darrah[g]\\n', 'Tijuana\\n', '11th voted out3rd jury memberDay 30\\n'], ['\"Would You Be My Brutus Today?\"\\n', 'December 4, 2003\\n', 'Darrah,Jon,Lillian\\n', 'Darrah\\n', 'Christa\\n', '12th voted out4th jury memberDay 33\\n'], ['\"Mutiny\"\\n', 'December 11, 2003\\n', 'Burton,[Jon]\\n', 'Darrah\\n', 'Burton\\n', '13th voted out5th jury memberDay 36\\n'], ['\"Flames and Endurance\"\\n', 'December 14, 2003\\n', 'None\\n', 'The Jury[h]\\n', 'Darrah\\n', '14th voted out6th jury memberDay 37\\n'], ['Lillian\\n', 'Jon\\n', '15th voted out7th jury memberDay 38\\n'], ['\"Reunion\"\\n', '\\n', 'Jury vote\\n'], ['Lillian\\n', 'Runner-up\\n'], ['Sandra\\n', 'Sole Survivor\\n']]\n",
            "['Osten\\n', 'QuitDay 19\\n']\n",
            "N/A N/A\n",
            "['\"What the...?, Part 2\"\\n', 'November 6, 2003\\n', 'None[c]\\n']\n",
            "N/A N/A\n",
            "['Burton[d]\\n', 'Andrew\\n', '8th voted outDay 21\\n']\n",
            "N/A N/A\n",
            "['Lillian[d]\\n']\n",
            "N/A N/A\n",
            "['Burton (Rupert)[d]\\n']\n",
            "N/A N/A\n",
            "['\"Shocking! Simply Shocking!\"\\n', 'November 13, 2003\\n', 'Rupert[e](Burton)[Lillian]\\n', 'Rupert\\n', 'Ryan O.\\n', '9th voted out1st jury memberDay 24\\n']\n",
            "Rupert[e](Burton)[Lillian] Rupert\n",
            "['\"Swimming With Sharks\"\\n', 'November 20, 2003\\n', 'Burton[f](Jon),Lillian\\n', 'Burton\\n', 'Rupert\\n', '10th voted out2nd jury memberDay 27\\n']\n",
            "Burton[f](Jon),Lillian Burton\n",
            "['\"The Great Lie\"\\n', 'November 26, 2003\\n', 'Jon\\n', 'Darrah[g]\\n', 'Tijuana\\n', '11th voted out3rd jury memberDay 30\\n']\n",
            "Jon Darrah[g]\n",
            "['\"Would You Be My Brutus Today?\"\\n', 'December 4, 2003\\n', 'Darrah,Jon,Lillian\\n', 'Darrah\\n', 'Christa\\n', '12th voted out4th jury memberDay 33\\n']\n",
            "Darrah,Jon,Lillian Darrah\n",
            "['\"Mutiny\"\\n', 'December 11, 2003\\n', 'Burton,[Jon]\\n', 'Darrah\\n', 'Burton\\n', '13th voted out5th jury memberDay 36\\n']\n",
            "N/A Darrah\n",
            "['\"Flames and Endurance\"\\n', 'December 14, 2003\\n', 'None\\n', 'The Jury[h]\\n', 'Darrah\\n', '14th voted out6th jury memberDay 37\\n']\n",
            "N/A The Jury[h]\n",
            "['Lillian\\n', 'Jon\\n', '15th voted out7th jury memberDay 38\\n']\n",
            "N/A N/A\n",
            "['\"Reunion\"\\n', '\\n', 'Jury vote\\n']\n",
            "N/A N/A\n",
            "['Lillian\\n', 'Runner-up\\n']\n",
            "N/A N/A\n",
            "['Sandra\\n', 'Sole Survivor\\n']\n",
            "N/A N/A\n"
          ],
          "name": "stdout"
        }
      ]
    },
    {
      "cell_type": "code",
      "metadata": {
        "id": "VZqK-xHhh0c-"
      },
      "source": [
        ""
      ],
      "execution_count": null,
      "outputs": []
    },
    {
      "cell_type": "markdown",
      "metadata": {
        "id": "A7Hpygp-h0H2"
      },
      "source": [
        ""
      ]
    }
  ]
}